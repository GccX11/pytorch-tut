{
 "cells": [
  {
   "cell_type": "code",
   "execution_count": 1,
   "metadata": {},
   "outputs": [],
   "source": [
    "import torch\n",
    "import torch.nn as nn # All neural network modules, nn.Linear, nn.Conv2d, BatchNorm, Loss functions"
   ]
  },
  {
   "cell_type": "code",
   "execution_count": 5,
   "metadata": {},
   "outputs": [
    {
     "name": "stdout",
     "output_type": "stream",
     "text": [
      "torch.Size([64, 10])\n"
     ]
    }
   ],
   "source": [
    "# LeNet architecture\n",
    "# 1x32x32 Input -> (5x5), s=1,p=0 -> avg pool s=2,p=0, -> (5x5), s=1,p=0 \n",
    "# -> avg pool s=2,p=0 -> -> Conv 5x5 to 120 channels x Linear 120 \n",
    "# -> 84 x Linear 10 (output)\n",
    "\n",
    "class LeNet(nn.Module):\n",
    "    def __init__(self):\n",
    "        super(LeNet, self).__init__()\n",
    "        self.relu = nn.ReLU()\n",
    "        self.pool = nn.AvgPool2d(kernel_size=(2,2), stride=(2,2))\n",
    "        self.conv1 = nn.Conv2d(in_channels=1, out_channels=6, \n",
    "                               kernel_size=(5,5), stride=(1,1), padding=(0,0))\n",
    "        self.conv2 = nn.Conv2d(in_channels=6, out_channels=16,\n",
    "                               kernel_size=(5,5), stride=(1,1), padding=(0,0))\n",
    "        self.conv3 = nn.Conv2d(in_channels=16, out_channels=120,\n",
    "                               kernel_size=(5,5), stride=(1,1), padding=(0,0))\n",
    "        self.linear1 = nn.Linear(120, 84)\n",
    "        self.linear2 = nn.Linear(84, 10)\n",
    "\n",
    "    def forward(self, x):\n",
    "        x = self.relu(self.conv1(x))\n",
    "        x = self.pool(x)\n",
    "        x = self.relu(self.conv2(x))\n",
    "        x = self.pool(x)\n",
    "        x = self.relu(self.conv3(x)) # num_examples x 120 x 1 x 1 -> num_examples x 120\n",
    "        x = x.reshape(x.shape[0], -1)\n",
    "        x = self.relu(self.linear1(x))\n",
    "        x = self.linear2(x)\n",
    "        return x\n",
    "    \n",
    "x = torch.randn(64, 1, 32, 32)\n",
    "model = LeNet()\n",
    "print(model(x).shape)"
   ]
  },
  {
   "cell_type": "code",
   "execution_count": null,
   "metadata": {},
   "outputs": [],
   "source": []
  }
 ],
 "metadata": {
  "kernelspec": {
   "display_name": "pytorch2",
   "language": "python",
   "name": "python3"
  },
  "language_info": {
   "codemirror_mode": {
    "name": "ipython",
    "version": 3
   },
   "file_extension": ".py",
   "mimetype": "text/x-python",
   "name": "python",
   "nbconvert_exporter": "python",
   "pygments_lexer": "ipython3",
   "version": "3.11.4"
  }
 },
 "nbformat": 4,
 "nbformat_minor": 2
}
