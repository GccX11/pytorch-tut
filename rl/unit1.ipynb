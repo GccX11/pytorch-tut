{
  "cells": [
    {
      "cell_type": "markdown",
      "metadata": {
        "id": "njb_ProuHiOe"
      },
      "source": [
        "# Unit 1: Train your first Deep Reinforcement Learning Agent 🤖\n",
        "\n",
        "![Cover](https://huggingface.co/datasets/huggingface-deep-rl-course/course-images/resolve/main/en/unit1/thumbnail.jpg)\n",
        "\n",
        "In this notebook, you'll train your **first Deep Reinforcement Learning agent** a Lunar Lander agent that will learn to **land correctly on the Moon 🌕**. Using [Stable-Baselines3](https://stable-baselines3.readthedocs.io/en/master/) a Deep Reinforcement Learning library, share them with the community, and experiment with different configurations\n",
        "\n",
        "⬇️ Here is an example of what **you will achieve in just a couple of minutes.** ⬇️\n",
        "\n",
        "\n"
      ]
    },
    {
      "cell_type": "code",
      "execution_count": 1,
      "metadata": {
        "id": "PF46MwbZD00b"
      },
      "outputs": [
        {
          "data": {
            "text/html": [
              "<video controls autoplay><source src=\"https://huggingface.co/sb3/ppo-LunarLander-v2/resolve/main/replay.mp4\" type=\"video/mp4\"></video>\n"
            ],
            "text/plain": [
              "<IPython.core.display.HTML object>"
            ]
          },
          "metadata": {},
          "output_type": "display_data"
        }
      ],
      "source": [
        "%%html\n",
        "<video controls autoplay><source src=\"https://huggingface.co/sb3/ppo-LunarLander-v2/resolve/main/replay.mp4\" type=\"video/mp4\"></video>"
      ]
    },
    {
      "cell_type": "markdown",
      "metadata": {
        "id": "x7oR6R-ZIbeS"
      },
      "source": [
        "### The environment 🎮\n",
        "\n",
        "- [LunarLander-v2](https://gymnasium.farama.org/environments/box2d/lunar_lander/)\n",
        "\n",
        "### The library used 📚\n",
        "\n",
        "- [Stable-Baselines3](https://stable-baselines3.readthedocs.io/en/master/)"
      ]
    },
    {
      "cell_type": "markdown",
      "metadata": {
        "id": "OwEcFHe9RRZW"
      },
      "source": [
        "We're constantly trying to improve our tutorials, so **if you find some issues in this notebook**, please [open an issue on the Github Repo](https://github.com/huggingface/deep-rl-class/issues)."
      ]
    },
    {
      "cell_type": "markdown",
      "metadata": {
        "id": "4i6tjI2tHQ8j"
      },
      "source": [
        "## Objectives of this notebook 🏆\n",
        "\n",
        "At the end of the notebook, you will:\n",
        "\n",
        "- Be able to use **Gymnasium**, the environment library.\n",
        "- Be able to use **Stable-Baselines3**, the deep reinforcement learning library.\n",
        "- Be able to **push your trained agent to the Hub** with a nice video replay and an evaluation score 🔥.\n",
        "\n",
        "\n"
      ]
    },
    {
      "cell_type": "markdown",
      "metadata": {
        "id": "Ff-nyJdzJPND"
      },
      "source": [
        "## This notebook is from Deep Reinforcement Learning Course\n",
        "\n",
        "<img src=\"https://huggingface.co/datasets/huggingface-deep-rl-course/course-images/resolve/main/en/notebooks/deep-rl-course-illustration.jpg\" alt=\"Deep RL Course illustration\"/>"
      ]
    },
    {
      "cell_type": "markdown",
      "metadata": {
        "id": "6p5HnEefISCB"
      },
      "source": [
        "In this free course, you will:\n",
        "\n",
        "- 📖 Study Deep Reinforcement Learning in **theory and practice**.\n",
        "- 🧑‍💻 Learn to **use famous Deep RL libraries** such as Stable Baselines3, RL Baselines3 Zoo, CleanRL and Sample Factory 2.0.\n",
        "- 🤖 Train **agents in unique environments**\n",
        "- 🎓 **Earn a certificate of completion** by completing 80% of the assignments.\n",
        "\n",
        "And more!\n",
        "\n",
        "Check 📚 the syllabus 👉 https://simoninithomas.github.io/deep-rl-course\n",
        "\n",
        "Don’t forget to **<a href=\"http://eepurl.com/ic5ZUD\">sign up to the course</a>** (we are collecting your email to be able to **send you the links when each Unit is published and give you information about the challenges and updates).**\n",
        "\n",
        "The best way to keep in touch and ask questions is **to join our discord server** to exchange with the community and with us 👉🏻 https://discord.gg/ydHrjt3WP5"
      ]
    },
    {
      "cell_type": "markdown",
      "metadata": {
        "id": "Y-mo_6rXIjRi"
      },
      "source": [
        "## Prerequisites 🏗️\n",
        "\n",
        "Before diving into the notebook, you need to:\n",
        "\n",
        "🔲 📝 **[Read Unit 0](https://huggingface.co/deep-rl-course/unit0/introduction)** that gives you all the **information about the course and helps you to onboard** 🤗\n",
        "\n",
        "🔲 📚 **Develop an understanding of the foundations of Reinforcement learning** (MC, TD, Rewards hypothesis...) by [reading Unit 1](https://huggingface.co/deep-rl-course/unit1/introduction)."
      ]
    },
    {
      "cell_type": "markdown",
      "metadata": {
        "id": "HoeqMnr5LuYE"
      },
      "source": [
        "## A small recap of Deep Reinforcement Learning 📚\n",
        "\n",
        "<img src=\"https://huggingface.co/datasets/huggingface-deep-rl-course/course-images/resolve/main/en/unit1/RL_process_game.jpg\" alt=\"The RL process\" width=\"100%\">"
      ]
    },
    {
      "cell_type": "markdown",
      "metadata": {
        "id": "xcQYx9ynaFMD"
      },
      "source": [
        "Let's do a small recap on what we learned in the first Unit:\n",
        "\n",
        "- Reinforcement Learning is a **computational approach to learning from actions**. We build an agent that learns from the environment by **interacting with it through trial and error** and receiving rewards (negative or positive) as feedback.\n",
        "\n",
        "- The goal of any RL agent is to **maximize its expected cumulative reward** (also called expected return) because RL is based on the _reward hypothesis_, which is that all goals can be described as the maximization of an expected cumulative reward.\n",
        "\n",
        "- The RL process is a **loop that outputs a sequence of state, action, reward, and next state**.\n",
        "\n",
        "- To calculate the expected cumulative reward (expected return), **we discount the rewards**: the rewards that come sooner (at the beginning of the game) are more probable to happen since they are more predictable than the long-term future reward.\n",
        "\n",
        "- To solve an RL problem, you want to **find an optimal policy**; the policy is the \"brain\" of your AI that will tell us what action to take given a state. The optimal one is the one that gives you the actions that max the expected return.\n",
        "\n",
        "There are **two** ways to find your optimal policy:\n",
        "\n",
        "- By **training your policy directly**: policy-based methods.\n",
        "- By **training a value function** that tells us the expected return the agent will get at each state and use this function to define our policy: value-based methods.\n",
        "\n",
        "- Finally, we spoke about Deep RL because **we introduce deep neural networks to estimate the action to take (policy-based) or to estimate the value of a state (value-based) hence the name \"deep.\"**"
      ]
    },
    {
      "cell_type": "markdown",
      "metadata": {
        "id": "qDploC3jSH99"
      },
      "source": [
        "# Let's train our first Deep Reinforcement Learning agent and upload it to the Hub 🚀\n",
        "\n",
        "## Get a certificate 🎓\n",
        "\n",
        "To validate this hands-on for the [certification process](https://huggingface.co/deep-rl-course/en/unit0/introduction#certification-process), you need to push your trained model to the Hub and **get a result of >= 200**.\n",
        "\n",
        "To find your result, go to the [leaderboard](https://huggingface.co/spaces/huggingface-projects/Deep-Reinforcement-Learning-Leaderboard) and find your model, **the result = mean_reward - std of reward**\n",
        "\n",
        "For more information about the certification process, check this section 👉 https://huggingface.co/deep-rl-course/en/unit0/introduction#certification-process"
      ]
    },
    {
      "cell_type": "markdown",
      "metadata": {
        "id": "HqzznTzhNfAC"
      },
      "source": [
        "## Set the GPU 💪\n",
        "\n",
        "- To **accelerate the agent's training, we'll use a GPU**. To do that, go to `Runtime > Change Runtime type`\n",
        "\n",
        "<img src=\"https://huggingface.co/datasets/huggingface-deep-rl-course/course-images/resolve/main/en/notebooks/gpu-step1.jpg\" alt=\"GPU Step 1\">"
      ]
    },
    {
      "cell_type": "markdown",
      "metadata": {
        "id": "38HBd3t1SHJ8"
      },
      "source": [
        "- `Hardware Accelerator > GPU`\n",
        "\n",
        "<img src=\"https://huggingface.co/datasets/huggingface-deep-rl-course/course-images/resolve/main/en/notebooks/gpu-step2.jpg\" alt=\"GPU Step 2\">"
      ]
    },
    {
      "cell_type": "markdown",
      "metadata": {
        "id": "jeDAH0h0EBiG"
      },
      "source": [
        "## Install dependencies and create a virtual screen 🔽\n",
        "\n",
        "The first step is to install the dependencies, we’ll install multiple ones.\n",
        "\n",
        "- `gymnasium[box2d]`: Contains the LunarLander-v2 environment 🌛\n",
        "- `stable-baselines3[extra]`: The deep reinforcement learning library.\n",
        "- `huggingface_sb3`: Additional code for Stable-baselines3 to load and upload models from the Hugging Face 🤗 Hub.\n",
        "\n",
        "To make things easier, we created a script to install all these dependencies."
      ]
    },
    {
      "cell_type": "code",
      "execution_count": 3,
      "metadata": {
        "id": "yQIGLPDkGhgG"
      },
      "outputs": [
        {
          "name": "stdout",
          "output_type": "stream",
          "text": [
            "[sudo] password for matt: "
          ]
        },
        {
          "name": "stdout",
          "output_type": "stream",
          "text": [
            "\n"
          ]
        }
      ],
      "source": [
        "!sudo apt install swig cmake"
      ]
    },
    {
      "cell_type": "markdown",
      "metadata": {
        "id": "9XaULfDZDvrC"
      },
      "source": [
        "!pip install -r https://raw.githubusercontent.com/huggingface/deep-rl-class/main/notebooks/unit1/requirements-unit1.txt"
      ]
    },
    {
      "cell_type": "markdown",
      "metadata": {
        "id": "BEKeXQJsQCYm"
      },
      "source": [
        "During the notebook, we'll need to generate a replay video. To do so, with colab, **we need to have a virtual screen to be able to render the environment** (and thus record the frames).\n",
        "\n",
        "Hence the following cell will install virtual screen libraries and create and run a virtual screen 🖥"
      ]
    },
    {
      "cell_type": "code",
      "execution_count": null,
      "metadata": {
        "id": "j5f2cGkdP-mb"
      },
      "outputs": [],
      "source": [
        "!sudo apt-get update\n",
        "!sudo apt-get install -y python3-opengl\n",
        "!apt install ffmpeg\n",
        "!apt install xvfb\n",
        "!pip3 install pyvirtualdisplay"
      ]
    },
    {
      "cell_type": "markdown",
      "metadata": {
        "id": "TCwBTAwAW9JJ"
      },
      "source": [
        "To make sure the new installed libraries are used, **sometimes it's required to restart the notebook runtime**. The next cell will force the **runtime to crash, so you'll need to connect again and run the code starting from here**. Thanks to this trick, **we will be able to run our virtual screen.**"
      ]
    },
    {
      "cell_type": "code",
      "execution_count": null,
      "metadata": {
        "id": "cYvkbef7XEMi"
      },
      "outputs": [],
      "source": [
        "import os\n",
        "os.kill(os.getpid(), 9)"
      ]
    },
    {
      "cell_type": "code",
      "execution_count": 4,
      "metadata": {
        "id": "BE5JWP5rQIKf"
      },
      "outputs": [
        {
          "data": {
            "text/plain": [
              "<pyvirtualdisplay.display.Display at 0x7f08e2e53110>"
            ]
          },
          "execution_count": 4,
          "metadata": {},
          "output_type": "execute_result"
        }
      ],
      "source": [
        "# Virtual display\n",
        "from pyvirtualdisplay import Display\n",
        "\n",
        "virtual_display = Display(visible=0, size=(1400, 900))\n",
        "virtual_display.start()"
      ]
    },
    {
      "cell_type": "markdown",
      "metadata": {
        "id": "wrgpVFqyENVf"
      },
      "source": [
        "## Import the packages 📦\n",
        "\n",
        "One additional library we import is huggingface_hub **to be able to upload and download trained models from the hub**.\n",
        "\n",
        "\n",
        "The Hugging Face Hub 🤗 works as a central place where anyone can share and explore models and datasets. It has versioning, metrics, visualizations and other features that will allow you to easily collaborate with others.\n",
        "\n",
        "You can see here all the Deep reinforcement Learning models available here👉 https://huggingface.co/models?pipeline_tag=reinforcement-learning&sort=downloads\n",
        "\n"
      ]
    },
    {
      "cell_type": "code",
      "execution_count": 5,
      "metadata": {
        "id": "cygWLPGsEQ0m"
      },
      "outputs": [],
      "source": [
        "import gymnasium\n",
        "\n",
        "from huggingface_sb3 import load_from_hub, package_to_hub\n",
        "from huggingface_hub import notebook_login # To log to our Hugging Face account to be able to upload models to the Hub.\n",
        "\n",
        "from stable_baselines3 import PPO\n",
        "from stable_baselines3.common.env_util import make_vec_env\n",
        "from stable_baselines3.common.evaluation import evaluate_policy\n",
        "from stable_baselines3.common.monitor import Monitor"
      ]
    },
    {
      "cell_type": "markdown",
      "metadata": {
        "id": "MRqRuRUl8CsB"
      },
      "source": [
        "## Understand Gymnasium and how it works 🤖\n",
        "\n",
        "🏋 The library containing our environment is called Gymnasium.\n",
        "**You'll use Gymnasium a lot in Deep Reinforcement Learning.**\n",
        "\n",
        "Gymnasium is the **new version of Gym library** [maintained by the Farama Foundation](https://farama.org/).\n",
        "\n",
        "The Gymnasium library provides two things:\n",
        "\n",
        "- An interface that allows you to **create RL environments**.\n",
        "- A **collection of environments** (gym-control, atari, box2D...).\n",
        "\n",
        "Let's look at an example, but first let's recall the RL loop.\n",
        "\n",
        "<img src=\"https://huggingface.co/datasets/huggingface-deep-rl-course/course-images/resolve/main/en/unit1/RL_process_game.jpg\" alt=\"The RL process\" width=\"100%\">"
      ]
    },
    {
      "cell_type": "markdown",
      "metadata": {
        "id": "-TzNN0bQ_j-3"
      },
      "source": [
        "At each step:\n",
        "- Our Agent receives a **state (S0)** from the **Environment** — we receive the first frame of our game (Environment).\n",
        "- Based on that **state (S0),** the Agent takes an **action (A0)** — our Agent will move to the right.\n",
        "- The environment transitions to a **new** **state (S1)** — new frame.\n",
        "- The environment gives some **reward (R1)** to the Agent — we’re not dead *(Positive Reward +1)*.\n",
        "\n",
        "\n",
        "With Gymnasium:\n",
        "\n",
        "1️⃣ We create our environment using `gymnasium.make()`\n",
        "\n",
        "2️⃣ We reset the environment to its initial state with `observation = env.reset()`\n",
        "\n",
        "At each step:\n",
        "\n",
        "3️⃣ Get an action using our model (in our example we take a random action)\n",
        "\n",
        "4️⃣ Using `env.step(action)`, we perform this action in the environment and get\n",
        "- `observation`: The new state (st+1)\n",
        "- `reward`: The reward we get after executing the action\n",
        "- `terminated`: Indicates if the episode terminated (agent reach the terminal state)\n",
        "- `truncated`: Introduced with this new version, it indicates a timelimit or if an agent go out of bounds of the environment for instance.\n",
        "- `info`: A dictionary that provides additional information (depends on the environment).\n",
        "\n",
        "For more explanations check this 👉 https://gymnasium.farama.org/api/env/#gymnasium.Env.step\n",
        "\n",
        "If the episode is terminated:\n",
        "- We reset the environment to its initial state with `observation = env.reset()`\n",
        "\n",
        "**Let's look at an example!** Make sure to read the code\n"
      ]
    },
    {
      "cell_type": "code",
      "execution_count": 7,
      "metadata": {
        "id": "w7vOFlpA_ONz"
      },
      "outputs": [
        {
          "name": "stdout",
          "output_type": "stream",
          "text": [
            "Action taken: 2\n",
            "Action taken: 1\n",
            "Action taken: 1\n",
            "Action taken: 1\n",
            "Action taken: 3\n",
            "Action taken: 2\n",
            "Action taken: 2\n",
            "Action taken: 1\n",
            "Action taken: 0\n",
            "Action taken: 0\n",
            "Action taken: 0\n",
            "Action taken: 0\n",
            "Action taken: 3\n",
            "Action taken: 0\n",
            "Action taken: 1\n",
            "Action taken: 1\n",
            "Action taken: 3\n",
            "Action taken: 3\n",
            "Action taken: 1\n",
            "Action taken: 1\n"
          ]
        }
      ],
      "source": [
        "import gymnasium as gym\n",
        "\n",
        "# First, we create our environment called LunarLander-v2\n",
        "env = gym.make(\"LunarLander-v2\")\n",
        "\n",
        "# Then we reset this environment\n",
        "observation, info = env.reset()\n",
        "\n",
        "for _ in range(20):\n",
        "  # Take a random action\n",
        "  action = env.action_space.sample()\n",
        "  print(\"Action taken:\", action)\n",
        "\n",
        "  # Do this action in the environment and get\n",
        "  # next_state, reward, terminated, truncated and info\n",
        "  observation, reward, terminated, truncated, info = env.step(action)\n",
        "\n",
        "  # If the game is terminated (in our case we land, crashed) or truncated (timeout)\n",
        "  if terminated or truncated:\n",
        "      # Reset the environment\n",
        "      print(\"Environment is reset\")\n",
        "      observation, info = env.reset()\n",
        "\n",
        "env.close()"
      ]
    },
    {
      "cell_type": "markdown",
      "metadata": {
        "id": "XIrKGGSlENZB"
      },
      "source": [
        "## Create the LunarLander environment 🌛 and understand how it works\n",
        "\n",
        "### [The environment 🎮](https://gymnasium.farama.org/environments/box2d/lunar_lander/)\n",
        "\n",
        "In this first tutorial, we’re going to train our agent, a [Lunar Lander](https://gymnasium.farama.org/environments/box2d/lunar_lander/), **to land correctly on the moon**. To do that, the agent needs to learn **to adapt its speed and position (horizontal, vertical, and angular) to land correctly.**\n",
        "\n",
        "---\n",
        "\n",
        "\n",
        "💡 A good habit when you start to use an environment is to check its documentation\n",
        "\n",
        "👉 https://gymnasium.farama.org/environments/box2d/lunar_lander/\n",
        "\n",
        "---\n"
      ]
    },
    {
      "cell_type": "markdown",
      "metadata": {
        "id": "poLBgRocF9aT"
      },
      "source": [
        "Let's see what the Environment looks like:\n"
      ]
    },
    {
      "cell_type": "code",
      "execution_count": 8,
      "metadata": {
        "id": "ZNPG0g_UGCfh"
      },
      "outputs": [
        {
          "name": "stdout",
          "output_type": "stream",
          "text": [
            "_____OBSERVATION SPACE_____ \n",
            "\n",
            "Observation Space Shape (8,)\n",
            "Sample observation [ 50.455463   -83.14222      4.7960825    0.16433524   2.300865\n",
            "   3.2183223    0.1710644    0.10689332]\n"
          ]
        }
      ],
      "source": [
        "# We create our environment with gym.make(\"<name_of_the_environment>\")\n",
        "env = gym.make(\"LunarLander-v2\")\n",
        "env.reset()\n",
        "print(\"_____OBSERVATION SPACE_____ \\n\")\n",
        "print(\"Observation Space Shape\", env.observation_space.shape)\n",
        "print(\"Sample observation\", env.observation_space.sample()) # Get a random observation"
      ]
    },
    {
      "cell_type": "markdown",
      "metadata": {
        "id": "2MXc15qFE0M9"
      },
      "source": [
        "We see with `Observation Space Shape (8,)` that the observation is a vector of size 8, where each value contains different information about the lander:\n",
        "- Horizontal pad coordinate (x)\n",
        "- Vertical pad coordinate (y)\n",
        "- Horizontal speed (x)\n",
        "- Vertical speed (y)\n",
        "- Angle\n",
        "- Angular speed\n",
        "- If the left leg contact point has touched the land (boolean)\n",
        "- If the right leg contact point has touched the land (boolean)\n"
      ]
    },
    {
      "cell_type": "code",
      "execution_count": 9,
      "metadata": {
        "id": "We5WqOBGLoSm"
      },
      "outputs": [
        {
          "name": "stdout",
          "output_type": "stream",
          "text": [
            "\n",
            " _____ACTION SPACE_____ \n",
            "\n",
            "Action Space Shape 4\n",
            "Action Space Sample 2\n"
          ]
        }
      ],
      "source": [
        "print(\"\\n _____ACTION SPACE_____ \\n\")\n",
        "print(\"Action Space Shape\", env.action_space.n)\n",
        "print(\"Action Space Sample\", env.action_space.sample()) # Take a random action"
      ]
    },
    {
      "cell_type": "markdown",
      "metadata": {
        "id": "MyxXwkI2Magx"
      },
      "source": [
        "The action space (the set of possible actions the agent can take) is discrete with 4 actions available 🎮:\n",
        "\n",
        "- Action 0: Do nothing,\n",
        "- Action 1: Fire left orientation engine,\n",
        "- Action 2: Fire the main engine,\n",
        "- Action 3: Fire right orientation engine.\n",
        "\n",
        "Reward function (the function that will give a reward at each timestep) 💰:\n",
        "\n",
        "After every step a reward is granted. The total reward of an episode is the **sum of the rewards for all the steps within that episode**.\n",
        "\n",
        "For each step, the reward:\n",
        "\n",
        "- Is increased/decreased the closer/further the lander is to the landing pad.\n",
        "-  Is increased/decreased the slower/faster the lander is moving.\n",
        "- Is decreased the more the lander is tilted (angle not horizontal).\n",
        "- Is increased by 10 points for each leg that is in contact with the ground.\n",
        "- Is decreased by 0.03 points each frame a side engine is firing.\n",
        "- Is decreased by 0.3 points each frame the main engine is firing.\n",
        "\n",
        "The episode receive an **additional reward of -100 or +100 points for crashing or landing safely respectively.**\n",
        "\n",
        "An episode is **considered a solution if it scores at least 200 points.**"
      ]
    },
    {
      "cell_type": "markdown",
      "metadata": {
        "id": "dFD9RAFjG8aq"
      },
      "source": [
        "#### Vectorized Environment\n",
        "\n",
        "- We create a vectorized environment (a method for stacking multiple independent environments into a single environment) of 16 environments, this way, **we'll have more diverse experiences during the training.**"
      ]
    },
    {
      "cell_type": "code",
      "execution_count": 10,
      "metadata": {
        "id": "99hqQ_etEy1N"
      },
      "outputs": [],
      "source": [
        "# Create the environment\n",
        "env = make_vec_env('LunarLander-v2', n_envs=16)"
      ]
    },
    {
      "cell_type": "markdown",
      "metadata": {
        "id": "VgrE86r5E5IK"
      },
      "source": [
        "## Create the Model 🤖\n",
        "- We have studied our environment and we understood the problem: **being able to land the Lunar Lander to the Landing Pad correctly by controlling left, right and main orientation engine**. Now let's build the algorithm we're going to use to solve this Problem 🚀.\n",
        "\n",
        "- To do so, we're going to use our first Deep RL library, [Stable Baselines3 (SB3)](https://stable-baselines3.readthedocs.io/en/master/).\n",
        "\n",
        "- SB3 is a set of **reliable implementations of reinforcement learning algorithms in PyTorch**.\n",
        "\n",
        "---\n",
        "\n",
        "💡 A good habit when using a new library is to dive first on the documentation: https://stable-baselines3.readthedocs.io/en/master/ and then try some tutorials.\n",
        "\n",
        "----"
      ]
    },
    {
      "cell_type": "markdown",
      "metadata": {
        "id": "HLlClRW37Q7e"
      },
      "source": [
        "<img src=\"https://huggingface.co/datasets/huggingface-deep-rl-course/course-images/resolve/main/en/unit1/sb3.png\" alt=\"Stable Baselines3\">"
      ]
    },
    {
      "cell_type": "markdown",
      "metadata": {
        "id": "HV4yiUM_9_Ka"
      },
      "source": [
        "To solve this problem, we're going to use SB3 **PPO**. [PPO (aka Proximal Policy Optimization) is one of the SOTA (state of the art) Deep Reinforcement Learning algorithms that you'll study during this course](https://stable-baselines3.readthedocs.io/en/master/modules/ppo.html#example%5D).\n",
        "\n",
        "PPO is a combination of:\n",
        "- *Value-based reinforcement learning method*: learning an action-value function that will tell us the **most valuable action to take given a state and action**.\n",
        "- *Policy-based reinforcement learning method*: learning a policy that will **give us a probability distribution over actions**."
      ]
    },
    {
      "cell_type": "markdown",
      "metadata": {
        "id": "5qL_4HeIOrEJ"
      },
      "source": [
        "Stable-Baselines3 is easy to set up:\n",
        "\n",
        "1️⃣ You **create your environment** (in our case it was done above)\n",
        "\n",
        "2️⃣ You define the **model you want to use and instantiate this model** `model = PPO(\"MlpPolicy\")`\n",
        "\n",
        "3️⃣ You **train the agent** with `model.learn` and define the number of training timesteps\n",
        "\n",
        "```\n",
        "# Create environment\n",
        "env = gym.make('LunarLander-v2')\n",
        "\n",
        "# Instantiate the agent\n",
        "model = PPO('MlpPolicy', env, verbose=1)\n",
        "# Train the agent\n",
        "model.learn(total_timesteps=int(2e5))\n",
        "```\n",
        "\n"
      ]
    },
    {
      "cell_type": "code",
      "execution_count": 12,
      "metadata": {
        "id": "nxI6hT1GE4-A"
      },
      "outputs": [
        {
          "name": "stdout",
          "output_type": "stream",
          "text": [
            "Using cuda device\n"
          ]
        }
      ],
      "source": [
        "# TODO: Define a PPO MlpPolicy architecture\n",
        "# We use MultiLayerPerceptron (MLPPolicy) because the input is a vector,\n",
        "# if we had frames as input we would use CnnPolicy\n",
        "model = PPO('MlpPolicy', env, verbose=1)"
      ]
    },
    {
      "cell_type": "markdown",
      "metadata": {
        "id": "QAN7B0_HCVZC"
      },
      "source": [
        "#### Solution"
      ]
    },
    {
      "cell_type": "code",
      "execution_count": 13,
      "metadata": {
        "id": "543OHYDfcjK4"
      },
      "outputs": [
        {
          "name": "stdout",
          "output_type": "stream",
          "text": [
            "Using cuda device\n"
          ]
        }
      ],
      "source": [
        "# SOLUTION\n",
        "# We added some parameters to accelerate the training\n",
        "model = PPO(\n",
        "    policy = 'MlpPolicy',\n",
        "    env = env,\n",
        "    n_steps = 1024,\n",
        "    batch_size = 64,\n",
        "    n_epochs = 4,\n",
        "    gamma = 0.999,\n",
        "    gae_lambda = 0.98,\n",
        "    ent_coef = 0.01,\n",
        "    verbose=1)"
      ]
    },
    {
      "cell_type": "markdown",
      "metadata": {
        "id": "ClJJk88yoBUi"
      },
      "source": [
        "## Train the PPO agent 🏃\n",
        "- Let's train our agent for 1,000,000 timesteps, don't forget to use GPU on Colab. It will take approximately ~20min, but you can use fewer timesteps if you just want to try it out.\n",
        "- During the training, take a ☕ break you deserved it 🤗"
      ]
    },
    {
      "cell_type": "code",
      "execution_count": 14,
      "metadata": {
        "id": "qKnYkNiVp89p"
      },
      "outputs": [
        {
          "name": "stdout",
          "output_type": "stream",
          "text": [
            "---------------------------------\n",
            "| rollout/           |          |\n",
            "|    ep_len_mean     | 93.4     |\n",
            "|    ep_rew_mean     | -184     |\n",
            "| time/              |          |\n",
            "|    fps             | 6429     |\n",
            "|    iterations      | 1        |\n",
            "|    time_elapsed    | 2        |\n",
            "|    total_timesteps | 16384    |\n",
            "---------------------------------\n",
            "------------------------------------------\n",
            "| rollout/                |              |\n",
            "|    ep_len_mean          | 96.6         |\n",
            "|    ep_rew_mean          | -148         |\n",
            "| time/                   |              |\n",
            "|    fps                  | 3576         |\n",
            "|    iterations           | 2            |\n",
            "|    time_elapsed         | 9            |\n",
            "|    total_timesteps      | 32768        |\n",
            "| train/                  |              |\n",
            "|    approx_kl            | 0.0055941814 |\n",
            "|    clip_fraction        | 0.0436       |\n",
            "|    clip_range           | 0.2          |\n",
            "|    entropy_loss         | -1.38        |\n",
            "|    explained_variance   | -0.0011      |\n",
            "|    learning_rate        | 0.0003       |\n",
            "|    loss                 | 1.74e+03     |\n",
            "|    n_updates            | 4            |\n",
            "|    policy_gradient_loss | -0.00483     |\n",
            "|    value_loss           | 4.52e+03     |\n",
            "------------------------------------------\n",
            "------------------------------------------\n",
            "| rollout/                |              |\n",
            "|    ep_len_mean          | 103          |\n",
            "|    ep_rew_mean          | -122         |\n",
            "| time/                   |              |\n",
            "|    fps                  | 3128         |\n",
            "|    iterations           | 3            |\n",
            "|    time_elapsed         | 15           |\n",
            "|    total_timesteps      | 49152        |\n",
            "| train/                  |              |\n",
            "|    approx_kl            | 0.0049574804 |\n",
            "|    clip_fraction        | 0.026        |\n",
            "|    clip_range           | 0.2          |\n",
            "|    entropy_loss         | -1.37        |\n",
            "|    explained_variance   | 0.00104      |\n",
            "|    learning_rate        | 0.0003       |\n",
            "|    loss                 | 947          |\n",
            "|    n_updates            | 8            |\n",
            "|    policy_gradient_loss | -0.0051      |\n",
            "|    value_loss           | 2.04e+03     |\n",
            "------------------------------------------\n",
            "------------------------------------------\n",
            "| rollout/                |              |\n",
            "|    ep_len_mean          | 96.4         |\n",
            "|    ep_rew_mean          | -110         |\n",
            "| time/                   |              |\n",
            "|    fps                  | 2992         |\n",
            "|    iterations           | 4            |\n",
            "|    time_elapsed         | 21           |\n",
            "|    total_timesteps      | 65536        |\n",
            "| train/                  |              |\n",
            "|    approx_kl            | 0.0074526905 |\n",
            "|    clip_fraction        | 0.05         |\n",
            "|    clip_range           | 0.2          |\n",
            "|    entropy_loss         | -1.36        |\n",
            "|    explained_variance   | 0.0135       |\n",
            "|    learning_rate        | 0.0003       |\n",
            "|    loss                 | 557          |\n",
            "|    n_updates            | 12           |\n",
            "|    policy_gradient_loss | -0.00501     |\n",
            "|    value_loss           | 1.18e+03     |\n",
            "------------------------------------------\n",
            "----------------------------------------\n",
            "| rollout/                |            |\n",
            "|    ep_len_mean          | 102        |\n",
            "|    ep_rew_mean          | -97.8      |\n",
            "| time/                   |            |\n",
            "|    fps                  | 2861       |\n",
            "|    iterations           | 5          |\n",
            "|    time_elapsed         | 28         |\n",
            "|    total_timesteps      | 81920      |\n",
            "| train/                  |            |\n",
            "|    approx_kl            | 0.00870972 |\n",
            "|    clip_fraction        | 0.0982     |\n",
            "|    clip_range           | 0.2        |\n",
            "|    entropy_loss         | -1.34      |\n",
            "|    explained_variance   | -0.0169    |\n",
            "|    learning_rate        | 0.0003     |\n",
            "|    loss                 | 499        |\n",
            "|    n_updates            | 16         |\n",
            "|    policy_gradient_loss | -0.00526   |\n",
            "|    value_loss           | 726        |\n",
            "----------------------------------------\n",
            "------------------------------------------\n",
            "| rollout/                |              |\n",
            "|    ep_len_mean          | 108          |\n",
            "|    ep_rew_mean          | -75.4        |\n",
            "| time/                   |              |\n",
            "|    fps                  | 2790         |\n",
            "|    iterations           | 6            |\n",
            "|    time_elapsed         | 35           |\n",
            "|    total_timesteps      | 98304        |\n",
            "| train/                  |              |\n",
            "|    approx_kl            | 0.0061360886 |\n",
            "|    clip_fraction        | 0.0609       |\n",
            "|    clip_range           | 0.2          |\n",
            "|    entropy_loss         | -1.32        |\n",
            "|    explained_variance   | -7.74e-05    |\n",
            "|    learning_rate        | 0.0003       |\n",
            "|    loss                 | 316          |\n",
            "|    n_updates            | 20           |\n",
            "|    policy_gradient_loss | -0.00624     |\n",
            "|    value_loss           | 501          |\n",
            "------------------------------------------\n",
            "-----------------------------------------\n",
            "| rollout/                |             |\n",
            "|    ep_len_mean          | 118         |\n",
            "|    ep_rew_mean          | -55.7       |\n",
            "| time/                   |             |\n",
            "|    fps                  | 2724        |\n",
            "|    iterations           | 7           |\n",
            "|    time_elapsed         | 42          |\n",
            "|    total_timesteps      | 114688      |\n",
            "| train/                  |             |\n",
            "|    approx_kl            | 0.010477452 |\n",
            "|    clip_fraction        | 0.115       |\n",
            "|    clip_range           | 0.2         |\n",
            "|    entropy_loss         | -1.29       |\n",
            "|    explained_variance   | 7.13e-05    |\n",
            "|    learning_rate        | 0.0003      |\n",
            "|    loss                 | 183         |\n",
            "|    n_updates            | 24          |\n",
            "|    policy_gradient_loss | -0.00806    |\n",
            "|    value_loss           | 404         |\n",
            "-----------------------------------------\n",
            "-----------------------------------------\n",
            "| rollout/                |             |\n",
            "|    ep_len_mean          | 121         |\n",
            "|    ep_rew_mean          | -45.3       |\n",
            "| time/                   |             |\n",
            "|    fps                  | 2706        |\n",
            "|    iterations           | 8           |\n",
            "|    time_elapsed         | 48          |\n",
            "|    total_timesteps      | 131072      |\n",
            "| train/                  |             |\n",
            "|    approx_kl            | 0.008900026 |\n",
            "|    clip_fraction        | 0.0537      |\n",
            "|    clip_range           | 0.2         |\n",
            "|    entropy_loss         | -1.26       |\n",
            "|    explained_variance   | -0.0355     |\n",
            "|    learning_rate        | 0.0003      |\n",
            "|    loss                 | 170         |\n",
            "|    n_updates            | 28          |\n",
            "|    policy_gradient_loss | -0.00447    |\n",
            "|    value_loss           | 349         |\n",
            "-----------------------------------------\n",
            "-----------------------------------------\n",
            "| rollout/                |             |\n",
            "|    ep_len_mean          | 124         |\n",
            "|    ep_rew_mean          | -37.2       |\n",
            "| time/                   |             |\n",
            "|    fps                  | 2676        |\n",
            "|    iterations           | 9           |\n",
            "|    time_elapsed         | 55          |\n",
            "|    total_timesteps      | 147456      |\n",
            "| train/                  |             |\n",
            "|    approx_kl            | 0.005394296 |\n",
            "|    clip_fraction        | 0.0354      |\n",
            "|    clip_range           | 0.2         |\n",
            "|    entropy_loss         | -1.23       |\n",
            "|    explained_variance   | -2.09e-05   |\n",
            "|    learning_rate        | 0.0003      |\n",
            "|    loss                 | 159         |\n",
            "|    n_updates            | 32          |\n",
            "|    policy_gradient_loss | -0.00258    |\n",
            "|    value_loss           | 332         |\n",
            "-----------------------------------------\n",
            "-----------------------------------------\n",
            "| rollout/                |             |\n",
            "|    ep_len_mean          | 128         |\n",
            "|    ep_rew_mean          | -27.4       |\n",
            "| time/                   |             |\n",
            "|    fps                  | 2654        |\n",
            "|    iterations           | 10          |\n",
            "|    time_elapsed         | 61          |\n",
            "|    total_timesteps      | 163840      |\n",
            "| train/                  |             |\n",
            "|    approx_kl            | 0.007996062 |\n",
            "|    clip_fraction        | 0.0557      |\n",
            "|    clip_range           | 0.2         |\n",
            "|    entropy_loss         | -1.21       |\n",
            "|    explained_variance   | -0.00104    |\n",
            "|    learning_rate        | 0.0003      |\n",
            "|    loss                 | 179         |\n",
            "|    n_updates            | 36          |\n",
            "|    policy_gradient_loss | -0.00395    |\n",
            "|    value_loss           | 415         |\n",
            "-----------------------------------------\n",
            "-----------------------------------------\n",
            "| rollout/                |             |\n",
            "|    ep_len_mean          | 163         |\n",
            "|    ep_rew_mean          | -22.4       |\n",
            "| time/                   |             |\n",
            "|    fps                  | 2545        |\n",
            "|    iterations           | 11          |\n",
            "|    time_elapsed         | 70          |\n",
            "|    total_timesteps      | 180224      |\n",
            "| train/                  |             |\n",
            "|    approx_kl            | 0.004723211 |\n",
            "|    clip_fraction        | 0.0274      |\n",
            "|    clip_range           | 0.2         |\n",
            "|    entropy_loss         | -1.17       |\n",
            "|    explained_variance   | -7.51e-06   |\n",
            "|    learning_rate        | 0.0003      |\n",
            "|    loss                 | 168         |\n",
            "|    n_updates            | 40          |\n",
            "|    policy_gradient_loss | -0.00228    |\n",
            "|    value_loss           | 485         |\n",
            "-----------------------------------------\n",
            "------------------------------------------\n",
            "| rollout/                |              |\n",
            "|    ep_len_mean          | 184          |\n",
            "|    ep_rew_mean          | -20.9        |\n",
            "| time/                   |              |\n",
            "|    fps                  | 2502         |\n",
            "|    iterations           | 12           |\n",
            "|    time_elapsed         | 78           |\n",
            "|    total_timesteps      | 196608       |\n",
            "| train/                  |              |\n",
            "|    approx_kl            | 0.0094057415 |\n",
            "|    clip_fraction        | 0.0708       |\n",
            "|    clip_range           | 0.2          |\n",
            "|    entropy_loss         | -1.16        |\n",
            "|    explained_variance   | 0.0011       |\n",
            "|    learning_rate        | 0.0003       |\n",
            "|    loss                 | 270          |\n",
            "|    n_updates            | 44           |\n",
            "|    policy_gradient_loss | -0.00391     |\n",
            "|    value_loss           | 432          |\n",
            "------------------------------------------\n",
            "------------------------------------------\n",
            "| rollout/                |              |\n",
            "|    ep_len_mean          | 222          |\n",
            "|    ep_rew_mean          | -23.8        |\n",
            "| time/                   |              |\n",
            "|    fps                  | 2333         |\n",
            "|    iterations           | 13           |\n",
            "|    time_elapsed         | 91           |\n",
            "|    total_timesteps      | 212992       |\n",
            "| train/                  |              |\n",
            "|    approx_kl            | 0.0033618705 |\n",
            "|    clip_fraction        | 0.0144       |\n",
            "|    clip_range           | 0.2          |\n",
            "|    entropy_loss         | -1.16        |\n",
            "|    explained_variance   | 0.000554     |\n",
            "|    learning_rate        | 0.0003       |\n",
            "|    loss                 | 264          |\n",
            "|    n_updates            | 48           |\n",
            "|    policy_gradient_loss | -0.000952    |\n",
            "|    value_loss           | 576          |\n",
            "------------------------------------------\n",
            "-----------------------------------------\n",
            "| rollout/                |             |\n",
            "|    ep_len_mean          | 273         |\n",
            "|    ep_rew_mean          | -13.3       |\n",
            "| time/                   |             |\n",
            "|    fps                  | 2270        |\n",
            "|    iterations           | 14          |\n",
            "|    time_elapsed         | 101         |\n",
            "|    total_timesteps      | 229376      |\n",
            "| train/                  |             |\n",
            "|    approx_kl            | 0.004229789 |\n",
            "|    clip_fraction        | 0.0169      |\n",
            "|    clip_range           | 0.2         |\n",
            "|    entropy_loss         | -1.24       |\n",
            "|    explained_variance   | 0.0187      |\n",
            "|    learning_rate        | 0.0003      |\n",
            "|    loss                 | 212         |\n",
            "|    n_updates            | 52          |\n",
            "|    policy_gradient_loss | -0.00209    |\n",
            "|    value_loss           | 485         |\n",
            "-----------------------------------------\n",
            "------------------------------------------\n",
            "| rollout/                |              |\n",
            "|    ep_len_mean          | 255          |\n",
            "|    ep_rew_mean          | -0.352       |\n",
            "| time/                   |              |\n",
            "|    fps                  | 2192         |\n",
            "|    iterations           | 15           |\n",
            "|    time_elapsed         | 112          |\n",
            "|    total_timesteps      | 245760       |\n",
            "| train/                  |              |\n",
            "|    approx_kl            | 0.0045755114 |\n",
            "|    clip_fraction        | 0.0272       |\n",
            "|    clip_range           | 0.2          |\n",
            "|    entropy_loss         | -1.17        |\n",
            "|    explained_variance   | 0.0355       |\n",
            "|    learning_rate        | 0.0003       |\n",
            "|    loss                 | 153          |\n",
            "|    n_updates            | 56           |\n",
            "|    policy_gradient_loss | -0.00248     |\n",
            "|    value_loss           | 522          |\n",
            "------------------------------------------\n",
            "------------------------------------------\n",
            "| rollout/                |              |\n",
            "|    ep_len_mean          | 350          |\n",
            "|    ep_rew_mean          | 13.2         |\n",
            "| time/                   |              |\n",
            "|    fps                  | 2071         |\n",
            "|    iterations           | 16           |\n",
            "|    time_elapsed         | 126          |\n",
            "|    total_timesteps      | 262144       |\n",
            "| train/                  |              |\n",
            "|    approx_kl            | 0.0065212366 |\n",
            "|    clip_fraction        | 0.0615       |\n",
            "|    clip_range           | 0.2          |\n",
            "|    entropy_loss         | -1.2         |\n",
            "|    explained_variance   | 0.254        |\n",
            "|    learning_rate        | 0.0003       |\n",
            "|    loss                 | 209          |\n",
            "|    n_updates            | 60           |\n",
            "|    policy_gradient_loss | -0.00352     |\n",
            "|    value_loss           | 412          |\n",
            "------------------------------------------\n",
            "-----------------------------------------\n",
            "| rollout/                |             |\n",
            "|    ep_len_mean          | 462         |\n",
            "|    ep_rew_mean          | 26.3        |\n",
            "| time/                   |             |\n",
            "|    fps                  | 1977        |\n",
            "|    iterations           | 17          |\n",
            "|    time_elapsed         | 140         |\n",
            "|    total_timesteps      | 278528      |\n",
            "| train/                  |             |\n",
            "|    approx_kl            | 0.009348348 |\n",
            "|    clip_fraction        | 0.0789      |\n",
            "|    clip_range           | 0.2         |\n",
            "|    entropy_loss         | -1.23       |\n",
            "|    explained_variance   | 0.398       |\n",
            "|    learning_rate        | 0.0003      |\n",
            "|    loss                 | 71.5        |\n",
            "|    n_updates            | 64          |\n",
            "|    policy_gradient_loss | -0.00321    |\n",
            "|    value_loss           | 205         |\n",
            "-----------------------------------------\n",
            "-----------------------------------------\n",
            "| rollout/                |             |\n",
            "|    ep_len_mean          | 545         |\n",
            "|    ep_rew_mean          | 36          |\n",
            "| time/                   |             |\n",
            "|    fps                  | 1902        |\n",
            "|    iterations           | 18          |\n",
            "|    time_elapsed         | 155         |\n",
            "|    total_timesteps      | 294912      |\n",
            "| train/                  |             |\n",
            "|    approx_kl            | 0.006801851 |\n",
            "|    clip_fraction        | 0.0613      |\n",
            "|    clip_range           | 0.2         |\n",
            "|    entropy_loss         | -1.22       |\n",
            "|    explained_variance   | 0.531       |\n",
            "|    learning_rate        | 0.0003      |\n",
            "|    loss                 | 91.3        |\n",
            "|    n_updates            | 68          |\n",
            "|    policy_gradient_loss | -0.00231    |\n",
            "|    value_loss           | 236         |\n",
            "-----------------------------------------\n",
            "-----------------------------------------\n",
            "| rollout/                |             |\n",
            "|    ep_len_mean          | 644         |\n",
            "|    ep_rew_mean          | 45.3        |\n",
            "| time/                   |             |\n",
            "|    fps                  | 1840        |\n",
            "|    iterations           | 19          |\n",
            "|    time_elapsed         | 169         |\n",
            "|    total_timesteps      | 311296      |\n",
            "| train/                  |             |\n",
            "|    approx_kl            | 0.006616776 |\n",
            "|    clip_fraction        | 0.0575      |\n",
            "|    clip_range           | 0.2         |\n",
            "|    entropy_loss         | -1.22       |\n",
            "|    explained_variance   | 0.756       |\n",
            "|    learning_rate        | 0.0003      |\n",
            "|    loss                 | 40.9        |\n",
            "|    n_updates            | 72          |\n",
            "|    policy_gradient_loss | -0.00159    |\n",
            "|    value_loss           | 117         |\n",
            "-----------------------------------------\n",
            "------------------------------------------\n",
            "| rollout/                |              |\n",
            "|    ep_len_mean          | 670          |\n",
            "|    ep_rew_mean          | 50.5         |\n",
            "| time/                   |              |\n",
            "|    fps                  | 1788         |\n",
            "|    iterations           | 20           |\n",
            "|    time_elapsed         | 183          |\n",
            "|    total_timesteps      | 327680       |\n",
            "| train/                  |              |\n",
            "|    approx_kl            | 0.0075725513 |\n",
            "|    clip_fraction        | 0.031        |\n",
            "|    clip_range           | 0.2          |\n",
            "|    entropy_loss         | -1.21        |\n",
            "|    explained_variance   | 0.765        |\n",
            "|    learning_rate        | 0.0003       |\n",
            "|    loss                 | 40.8         |\n",
            "|    n_updates            | 76           |\n",
            "|    policy_gradient_loss | -0.0024      |\n",
            "|    value_loss           | 153          |\n",
            "------------------------------------------\n",
            "-----------------------------------------\n",
            "| rollout/                |             |\n",
            "|    ep_len_mean          | 673         |\n",
            "|    ep_rew_mean          | 60          |\n",
            "| time/                   |             |\n",
            "|    fps                  | 1745        |\n",
            "|    iterations           | 21          |\n",
            "|    time_elapsed         | 197         |\n",
            "|    total_timesteps      | 344064      |\n",
            "| train/                  |             |\n",
            "|    approx_kl            | 0.006452931 |\n",
            "|    clip_fraction        | 0.0369      |\n",
            "|    clip_range           | 0.2         |\n",
            "|    entropy_loss         | -1.22       |\n",
            "|    explained_variance   | 0.833       |\n",
            "|    learning_rate        | 0.0003      |\n",
            "|    loss                 | 52.6        |\n",
            "|    n_updates            | 80          |\n",
            "|    policy_gradient_loss | -0.00175    |\n",
            "|    value_loss           | 135         |\n",
            "-----------------------------------------\n",
            "----------------------------------------\n",
            "| rollout/                |            |\n",
            "|    ep_len_mean          | 689        |\n",
            "|    ep_rew_mean          | 64.5       |\n",
            "| time/                   |            |\n",
            "|    fps                  | 1705       |\n",
            "|    iterations           | 22         |\n",
            "|    time_elapsed         | 211        |\n",
            "|    total_timesteps      | 360448     |\n",
            "| train/                  |            |\n",
            "|    approx_kl            | 0.00517438 |\n",
            "|    clip_fraction        | 0.0358     |\n",
            "|    clip_range           | 0.2        |\n",
            "|    entropy_loss         | -1.18      |\n",
            "|    explained_variance   | 0.872      |\n",
            "|    learning_rate        | 0.0003     |\n",
            "|    loss                 | 93         |\n",
            "|    n_updates            | 84         |\n",
            "|    policy_gradient_loss | -0.000624  |\n",
            "|    value_loss           | 115        |\n",
            "----------------------------------------\n",
            "------------------------------------------\n",
            "| rollout/                |              |\n",
            "|    ep_len_mean          | 731          |\n",
            "|    ep_rew_mean          | 72.6         |\n",
            "| time/                   |              |\n",
            "|    fps                  | 1666         |\n",
            "|    iterations           | 23           |\n",
            "|    time_elapsed         | 226          |\n",
            "|    total_timesteps      | 376832       |\n",
            "| train/                  |              |\n",
            "|    approx_kl            | 0.0051070736 |\n",
            "|    clip_fraction        | 0.024        |\n",
            "|    clip_range           | 0.2          |\n",
            "|    entropy_loss         | -1.14        |\n",
            "|    explained_variance   | 0.881        |\n",
            "|    learning_rate        | 0.0003       |\n",
            "|    loss                 | 70.7         |\n",
            "|    n_updates            | 88           |\n",
            "|    policy_gradient_loss | -0.000908    |\n",
            "|    value_loss           | 121          |\n",
            "------------------------------------------\n",
            "------------------------------------------\n",
            "| rollout/                |              |\n",
            "|    ep_len_mean          | 737          |\n",
            "|    ep_rew_mean          | 77           |\n",
            "| time/                   |              |\n",
            "|    fps                  | 1635         |\n",
            "|    iterations           | 24           |\n",
            "|    time_elapsed         | 240          |\n",
            "|    total_timesteps      | 393216       |\n",
            "| train/                  |              |\n",
            "|    approx_kl            | 0.0054900264 |\n",
            "|    clip_fraction        | 0.0381       |\n",
            "|    clip_range           | 0.2          |\n",
            "|    entropy_loss         | -1.16        |\n",
            "|    explained_variance   | 0.937        |\n",
            "|    learning_rate        | 0.0003       |\n",
            "|    loss                 | 13.6         |\n",
            "|    n_updates            | 92           |\n",
            "|    policy_gradient_loss | -0.000463    |\n",
            "|    value_loss           | 52.2         |\n",
            "------------------------------------------\n",
            "-----------------------------------------\n",
            "| rollout/                |             |\n",
            "|    ep_len_mean          | 774         |\n",
            "|    ep_rew_mean          | 81.5        |\n",
            "| time/                   |             |\n",
            "|    fps                  | 1613        |\n",
            "|    iterations           | 25          |\n",
            "|    time_elapsed         | 253         |\n",
            "|    total_timesteps      | 409600      |\n",
            "| train/                  |             |\n",
            "|    approx_kl            | 0.004795548 |\n",
            "|    clip_fraction        | 0.0247      |\n",
            "|    clip_range           | 0.2         |\n",
            "|    entropy_loss         | -1.13       |\n",
            "|    explained_variance   | 0.917       |\n",
            "|    learning_rate        | 0.0003      |\n",
            "|    loss                 | 7           |\n",
            "|    n_updates            | 96          |\n",
            "|    policy_gradient_loss | -0.00157    |\n",
            "|    value_loss           | 73          |\n",
            "-----------------------------------------\n",
            "------------------------------------------\n",
            "| rollout/                |              |\n",
            "|    ep_len_mean          | 799          |\n",
            "|    ep_rew_mean          | 83.9         |\n",
            "| time/                   |              |\n",
            "|    fps                  | 1592         |\n",
            "|    iterations           | 26           |\n",
            "|    time_elapsed         | 267          |\n",
            "|    total_timesteps      | 425984       |\n",
            "| train/                  |              |\n",
            "|    approx_kl            | 0.0034654238 |\n",
            "|    clip_fraction        | 0.0355       |\n",
            "|    clip_range           | 0.2          |\n",
            "|    entropy_loss         | -1.11        |\n",
            "|    explained_variance   | 0.921        |\n",
            "|    learning_rate        | 0.0003       |\n",
            "|    loss                 | 37.3         |\n",
            "|    n_updates            | 100          |\n",
            "|    policy_gradient_loss | -0.00138     |\n",
            "|    value_loss           | 67.1         |\n",
            "------------------------------------------\n",
            "------------------------------------------\n",
            "| rollout/                |              |\n",
            "|    ep_len_mean          | 825          |\n",
            "|    ep_rew_mean          | 92.2         |\n",
            "| time/                   |              |\n",
            "|    fps                  | 1575         |\n",
            "|    iterations           | 27           |\n",
            "|    time_elapsed         | 280          |\n",
            "|    total_timesteps      | 442368       |\n",
            "| train/                  |              |\n",
            "|    approx_kl            | 0.0045479336 |\n",
            "|    clip_fraction        | 0.019        |\n",
            "|    clip_range           | 0.2          |\n",
            "|    entropy_loss         | -1.12        |\n",
            "|    explained_variance   | 0.94         |\n",
            "|    learning_rate        | 0.0003       |\n",
            "|    loss                 | 22.9         |\n",
            "|    n_updates            | 104          |\n",
            "|    policy_gradient_loss | -0.000465    |\n",
            "|    value_loss           | 60.8         |\n",
            "------------------------------------------\n",
            "------------------------------------------\n",
            "| rollout/                |              |\n",
            "|    ep_len_mean          | 830          |\n",
            "|    ep_rew_mean          | 93.6         |\n",
            "| time/                   |              |\n",
            "|    fps                  | 1560         |\n",
            "|    iterations           | 28           |\n",
            "|    time_elapsed         | 294          |\n",
            "|    total_timesteps      | 458752       |\n",
            "| train/                  |              |\n",
            "|    approx_kl            | 0.0028538695 |\n",
            "|    clip_fraction        | 0.0223       |\n",
            "|    clip_range           | 0.2          |\n",
            "|    entropy_loss         | -1.08        |\n",
            "|    explained_variance   | 0.918        |\n",
            "|    learning_rate        | 0.0003       |\n",
            "|    loss                 | 9.91         |\n",
            "|    n_updates            | 108          |\n",
            "|    policy_gradient_loss | -5.41e-05    |\n",
            "|    value_loss           | 79.7         |\n",
            "------------------------------------------\n",
            "-----------------------------------------\n",
            "| rollout/                |             |\n",
            "|    ep_len_mean          | 844         |\n",
            "|    ep_rew_mean          | 98.8        |\n",
            "| time/                   |             |\n",
            "|    fps                  | 1547        |\n",
            "|    iterations           | 29          |\n",
            "|    time_elapsed         | 307         |\n",
            "|    total_timesteps      | 475136      |\n",
            "| train/                  |             |\n",
            "|    approx_kl            | 0.005022372 |\n",
            "|    clip_fraction        | 0.0485      |\n",
            "|    clip_range           | 0.2         |\n",
            "|    entropy_loss         | -1.06       |\n",
            "|    explained_variance   | 0.904       |\n",
            "|    learning_rate        | 0.0003      |\n",
            "|    loss                 | 88.5        |\n",
            "|    n_updates            | 112         |\n",
            "|    policy_gradient_loss | -0.00253    |\n",
            "|    value_loss           | 97.9        |\n",
            "-----------------------------------------\n",
            "-----------------------------------------\n",
            "| rollout/                |             |\n",
            "|    ep_len_mean          | 871         |\n",
            "|    ep_rew_mean          | 103         |\n",
            "| time/                   |             |\n",
            "|    fps                  | 1531        |\n",
            "|    iterations           | 30          |\n",
            "|    time_elapsed         | 320         |\n",
            "|    total_timesteps      | 491520      |\n",
            "| train/                  |             |\n",
            "|    approx_kl            | 0.004877574 |\n",
            "|    clip_fraction        | 0.0419      |\n",
            "|    clip_range           | 0.2         |\n",
            "|    entropy_loss         | -0.999      |\n",
            "|    explained_variance   | 0.892       |\n",
            "|    learning_rate        | 0.0003      |\n",
            "|    loss                 | 28.1        |\n",
            "|    n_updates            | 116         |\n",
            "|    policy_gradient_loss | -0.00193    |\n",
            "|    value_loss           | 95.9        |\n",
            "-----------------------------------------\n",
            "------------------------------------------\n",
            "| rollout/                |              |\n",
            "|    ep_len_mean          | 886          |\n",
            "|    ep_rew_mean          | 106          |\n",
            "| time/                   |              |\n",
            "|    fps                  | 1522         |\n",
            "|    iterations           | 31           |\n",
            "|    time_elapsed         | 333          |\n",
            "|    total_timesteps      | 507904       |\n",
            "| train/                  |              |\n",
            "|    approx_kl            | 0.0037222188 |\n",
            "|    clip_fraction        | 0.027        |\n",
            "|    clip_range           | 0.2          |\n",
            "|    entropy_loss         | -0.999       |\n",
            "|    explained_variance   | 0.936        |\n",
            "|    learning_rate        | 0.0003       |\n",
            "|    loss                 | 11.9         |\n",
            "|    n_updates            | 120          |\n",
            "|    policy_gradient_loss | 0.000291     |\n",
            "|    value_loss           | 58.2         |\n",
            "------------------------------------------\n",
            "------------------------------------------\n",
            "| rollout/                |              |\n",
            "|    ep_len_mean          | 902          |\n",
            "|    ep_rew_mean          | 112          |\n",
            "| time/                   |              |\n",
            "|    fps                  | 1510         |\n",
            "|    iterations           | 32           |\n",
            "|    time_elapsed         | 347          |\n",
            "|    total_timesteps      | 524288       |\n",
            "| train/                  |              |\n",
            "|    approx_kl            | 0.0046745846 |\n",
            "|    clip_fraction        | 0.0241       |\n",
            "|    clip_range           | 0.2          |\n",
            "|    entropy_loss         | -0.984       |\n",
            "|    explained_variance   | 0.968        |\n",
            "|    learning_rate        | 0.0003       |\n",
            "|    loss                 | 21.3         |\n",
            "|    n_updates            | 124          |\n",
            "|    policy_gradient_loss | -0.000856    |\n",
            "|    value_loss           | 29           |\n",
            "------------------------------------------\n",
            "------------------------------------------\n",
            "| rollout/                |              |\n",
            "|    ep_len_mean          | 890          |\n",
            "|    ep_rew_mean          | 112          |\n",
            "| time/                   |              |\n",
            "|    fps                  | 1503         |\n",
            "|    iterations           | 33           |\n",
            "|    time_elapsed         | 359          |\n",
            "|    total_timesteps      | 540672       |\n",
            "| train/                  |              |\n",
            "|    approx_kl            | 0.0032101246 |\n",
            "|    clip_fraction        | 0.0322       |\n",
            "|    clip_range           | 0.2          |\n",
            "|    entropy_loss         | -0.925       |\n",
            "|    explained_variance   | 0.974        |\n",
            "|    learning_rate        | 0.0003       |\n",
            "|    loss                 | 17.6         |\n",
            "|    n_updates            | 128          |\n",
            "|    policy_gradient_loss | 5.94e-05     |\n",
            "|    value_loss           | 28.4         |\n",
            "------------------------------------------\n",
            "-----------------------------------------\n",
            "| rollout/                |             |\n",
            "|    ep_len_mean          | 896         |\n",
            "|    ep_rew_mean          | 117         |\n",
            "| time/                   |             |\n",
            "|    fps                  | 1497        |\n",
            "|    iterations           | 34          |\n",
            "|    time_elapsed         | 372         |\n",
            "|    total_timesteps      | 557056      |\n",
            "| train/                  |             |\n",
            "|    approx_kl            | 0.004054978 |\n",
            "|    clip_fraction        | 0.0256      |\n",
            "|    clip_range           | 0.2         |\n",
            "|    entropy_loss         | -0.893      |\n",
            "|    explained_variance   | 0.951       |\n",
            "|    learning_rate        | 0.0003      |\n",
            "|    loss                 | 40.1        |\n",
            "|    n_updates            | 132         |\n",
            "|    policy_gradient_loss | -0.00131    |\n",
            "|    value_loss           | 60.3        |\n",
            "-----------------------------------------\n",
            "------------------------------------------\n",
            "| rollout/                |              |\n",
            "|    ep_len_mean          | 893          |\n",
            "|    ep_rew_mean          | 122          |\n",
            "| time/                   |              |\n",
            "|    fps                  | 1491         |\n",
            "|    iterations           | 35           |\n",
            "|    time_elapsed         | 384          |\n",
            "|    total_timesteps      | 573440       |\n",
            "| train/                  |              |\n",
            "|    approx_kl            | 0.0034954443 |\n",
            "|    clip_fraction        | 0.0197       |\n",
            "|    clip_range           | 0.2          |\n",
            "|    entropy_loss         | -0.834       |\n",
            "|    explained_variance   | 0.91         |\n",
            "|    learning_rate        | 0.0003       |\n",
            "|    loss                 | 22           |\n",
            "|    n_updates            | 136          |\n",
            "|    policy_gradient_loss | -0.00116     |\n",
            "|    value_loss           | 106          |\n",
            "------------------------------------------\n",
            "------------------------------------------\n",
            "| rollout/                |              |\n",
            "|    ep_len_mean          | 885          |\n",
            "|    ep_rew_mean          | 125          |\n",
            "| time/                   |              |\n",
            "|    fps                  | 1486         |\n",
            "|    iterations           | 36           |\n",
            "|    time_elapsed         | 396          |\n",
            "|    total_timesteps      | 589824       |\n",
            "| train/                  |              |\n",
            "|    approx_kl            | 0.0049535055 |\n",
            "|    clip_fraction        | 0.0325       |\n",
            "|    clip_range           | 0.2          |\n",
            "|    entropy_loss         | -0.89        |\n",
            "|    explained_variance   | 0.958        |\n",
            "|    learning_rate        | 0.0003       |\n",
            "|    loss                 | 4.52         |\n",
            "|    n_updates            | 140          |\n",
            "|    policy_gradient_loss | -0.000835    |\n",
            "|    value_loss           | 46.4         |\n",
            "------------------------------------------\n",
            "------------------------------------------\n",
            "| rollout/                |              |\n",
            "|    ep_len_mean          | 883          |\n",
            "|    ep_rew_mean          | 126          |\n",
            "| time/                   |              |\n",
            "|    fps                  | 1480         |\n",
            "|    iterations           | 37           |\n",
            "|    time_elapsed         | 409          |\n",
            "|    total_timesteps      | 606208       |\n",
            "| train/                  |              |\n",
            "|    approx_kl            | 0.0047851326 |\n",
            "|    clip_fraction        | 0.0399       |\n",
            "|    clip_range           | 0.2          |\n",
            "|    entropy_loss         | -0.879       |\n",
            "|    explained_variance   | 0.922        |\n",
            "|    learning_rate        | 0.0003       |\n",
            "|    loss                 | 61.6         |\n",
            "|    n_updates            | 144          |\n",
            "|    policy_gradient_loss | -0.00153     |\n",
            "|    value_loss           | 91.4         |\n",
            "------------------------------------------\n",
            "-----------------------------------------\n",
            "| rollout/                |             |\n",
            "|    ep_len_mean          | 890         |\n",
            "|    ep_rew_mean          | 127         |\n",
            "| time/                   |             |\n",
            "|    fps                  | 1475        |\n",
            "|    iterations           | 38          |\n",
            "|    time_elapsed         | 421         |\n",
            "|    total_timesteps      | 622592      |\n",
            "| train/                  |             |\n",
            "|    approx_kl            | 0.004540003 |\n",
            "|    clip_fraction        | 0.0313      |\n",
            "|    clip_range           | 0.2         |\n",
            "|    entropy_loss         | -0.887      |\n",
            "|    explained_variance   | 0.937       |\n",
            "|    learning_rate        | 0.0003      |\n",
            "|    loss                 | 6.79        |\n",
            "|    n_updates            | 148         |\n",
            "|    policy_gradient_loss | -0.000912   |\n",
            "|    value_loss           | 53.7        |\n",
            "-----------------------------------------\n",
            "------------------------------------------\n",
            "| rollout/                |              |\n",
            "|    ep_len_mean          | 900          |\n",
            "|    ep_rew_mean          | 130          |\n",
            "| time/                   |              |\n",
            "|    fps                  | 1471         |\n",
            "|    iterations           | 39           |\n",
            "|    time_elapsed         | 434          |\n",
            "|    total_timesteps      | 638976       |\n",
            "| train/                  |              |\n",
            "|    approx_kl            | 0.0050401622 |\n",
            "|    clip_fraction        | 0.0597       |\n",
            "|    clip_range           | 0.2          |\n",
            "|    entropy_loss         | -0.887       |\n",
            "|    explained_variance   | 0.98         |\n",
            "|    learning_rate        | 0.0003       |\n",
            "|    loss                 | 59.6         |\n",
            "|    n_updates            | 152          |\n",
            "|    policy_gradient_loss | -0.000821    |\n",
            "|    value_loss           | 19.2         |\n",
            "------------------------------------------\n",
            "-----------------------------------------\n",
            "| rollout/                |             |\n",
            "|    ep_len_mean          | 921         |\n",
            "|    ep_rew_mean          | 132         |\n",
            "| time/                   |             |\n",
            "|    fps                  | 1467        |\n",
            "|    iterations           | 40          |\n",
            "|    time_elapsed         | 446         |\n",
            "|    total_timesteps      | 655360      |\n",
            "| train/                  |             |\n",
            "|    approx_kl            | 0.004848902 |\n",
            "|    clip_fraction        | 0.0424      |\n",
            "|    clip_range           | 0.2         |\n",
            "|    entropy_loss         | -0.901      |\n",
            "|    explained_variance   | 0.967       |\n",
            "|    learning_rate        | 0.0003      |\n",
            "|    loss                 | 11.2        |\n",
            "|    n_updates            | 156         |\n",
            "|    policy_gradient_loss | -0.000148   |\n",
            "|    value_loss           | 29.2        |\n",
            "-----------------------------------------\n",
            "------------------------------------------\n",
            "| rollout/                |              |\n",
            "|    ep_len_mean          | 908          |\n",
            "|    ep_rew_mean          | 129          |\n",
            "| time/                   |              |\n",
            "|    fps                  | 1459         |\n",
            "|    iterations           | 41           |\n",
            "|    time_elapsed         | 460          |\n",
            "|    total_timesteps      | 671744       |\n",
            "| train/                  |              |\n",
            "|    approx_kl            | 0.0043519353 |\n",
            "|    clip_fraction        | 0.0462       |\n",
            "|    clip_range           | 0.2          |\n",
            "|    entropy_loss         | -0.894       |\n",
            "|    explained_variance   | 0.98         |\n",
            "|    learning_rate        | 0.0003       |\n",
            "|    loss                 | 4.59         |\n",
            "|    n_updates            | 160          |\n",
            "|    policy_gradient_loss | -0.000528    |\n",
            "|    value_loss           | 22.4         |\n",
            "------------------------------------------\n",
            "------------------------------------------\n",
            "| rollout/                |              |\n",
            "|    ep_len_mean          | 922          |\n",
            "|    ep_rew_mean          | 131          |\n",
            "| time/                   |              |\n",
            "|    fps                  | 1453         |\n",
            "|    iterations           | 42           |\n",
            "|    time_elapsed         | 473          |\n",
            "|    total_timesteps      | 688128       |\n",
            "| train/                  |              |\n",
            "|    approx_kl            | 0.0037628503 |\n",
            "|    clip_fraction        | 0.0259       |\n",
            "|    clip_range           | 0.2          |\n",
            "|    entropy_loss         | -0.929       |\n",
            "|    explained_variance   | 0.955        |\n",
            "|    learning_rate        | 0.0003       |\n",
            "|    loss                 | 46.5         |\n",
            "|    n_updates            | 164          |\n",
            "|    policy_gradient_loss | -0.000512    |\n",
            "|    value_loss           | 46           |\n",
            "------------------------------------------\n",
            "-----------------------------------------\n",
            "| rollout/                |             |\n",
            "|    ep_len_mean          | 925         |\n",
            "|    ep_rew_mean          | 130         |\n",
            "| time/                   |             |\n",
            "|    fps                  | 1449        |\n",
            "|    iterations           | 43          |\n",
            "|    time_elapsed         | 486         |\n",
            "|    total_timesteps      | 704512      |\n",
            "| train/                  |             |\n",
            "|    approx_kl            | 0.004422049 |\n",
            "|    clip_fraction        | 0.0446      |\n",
            "|    clip_range           | 0.2         |\n",
            "|    entropy_loss         | -0.922      |\n",
            "|    explained_variance   | 0.979       |\n",
            "|    learning_rate        | 0.0003      |\n",
            "|    loss                 | 5.46        |\n",
            "|    n_updates            | 168         |\n",
            "|    policy_gradient_loss | -0.000598   |\n",
            "|    value_loss           | 17.2        |\n",
            "-----------------------------------------\n",
            "-----------------------------------------\n",
            "| rollout/                |             |\n",
            "|    ep_len_mean          | 933         |\n",
            "|    ep_rew_mean          | 134         |\n",
            "| time/                   |             |\n",
            "|    fps                  | 1441        |\n",
            "|    iterations           | 44          |\n",
            "|    time_elapsed         | 500         |\n",
            "|    total_timesteps      | 720896      |\n",
            "| train/                  |             |\n",
            "|    approx_kl            | 0.003586289 |\n",
            "|    clip_fraction        | 0.034       |\n",
            "|    clip_range           | 0.2         |\n",
            "|    entropy_loss         | -0.948      |\n",
            "|    explained_variance   | 0.977       |\n",
            "|    learning_rate        | 0.0003      |\n",
            "|    loss                 | 2.88        |\n",
            "|    n_updates            | 172         |\n",
            "|    policy_gradient_loss | -0.0011     |\n",
            "|    value_loss           | 26.8        |\n",
            "-----------------------------------------\n",
            "------------------------------------------\n",
            "| rollout/                |              |\n",
            "|    ep_len_mean          | 941          |\n",
            "|    ep_rew_mean          | 133          |\n",
            "| time/                   |              |\n",
            "|    fps                  | 1432         |\n",
            "|    iterations           | 45           |\n",
            "|    time_elapsed         | 514          |\n",
            "|    total_timesteps      | 737280       |\n",
            "| train/                  |              |\n",
            "|    approx_kl            | 0.0069015846 |\n",
            "|    clip_fraction        | 0.0389       |\n",
            "|    clip_range           | 0.2          |\n",
            "|    entropy_loss         | -0.945       |\n",
            "|    explained_variance   | 0.992        |\n",
            "|    learning_rate        | 0.0003       |\n",
            "|    loss                 | 2.04         |\n",
            "|    n_updates            | 176          |\n",
            "|    policy_gradient_loss | -0.000531    |\n",
            "|    value_loss           | 6.97         |\n",
            "------------------------------------------\n",
            "------------------------------------------\n",
            "| rollout/                |              |\n",
            "|    ep_len_mean          | 956          |\n",
            "|    ep_rew_mean          | 136          |\n",
            "| time/                   |              |\n",
            "|    fps                  | 1427         |\n",
            "|    iterations           | 46           |\n",
            "|    time_elapsed         | 527          |\n",
            "|    total_timesteps      | 753664       |\n",
            "| train/                  |              |\n",
            "|    approx_kl            | 0.0052278535 |\n",
            "|    clip_fraction        | 0.042        |\n",
            "|    clip_range           | 0.2          |\n",
            "|    entropy_loss         | -0.953       |\n",
            "|    explained_variance   | 0.995        |\n",
            "|    learning_rate        | 0.0003       |\n",
            "|    loss                 | 0.926        |\n",
            "|    n_updates            | 180          |\n",
            "|    policy_gradient_loss | -0.00138     |\n",
            "|    value_loss           | 4.03         |\n",
            "------------------------------------------\n",
            "------------------------------------------\n",
            "| rollout/                |              |\n",
            "|    ep_len_mean          | 971          |\n",
            "|    ep_rew_mean          | 142          |\n",
            "| time/                   |              |\n",
            "|    fps                  | 1422         |\n",
            "|    iterations           | 47           |\n",
            "|    time_elapsed         | 541          |\n",
            "|    total_timesteps      | 770048       |\n",
            "| train/                  |              |\n",
            "|    approx_kl            | 0.0036455472 |\n",
            "|    clip_fraction        | 0.0378       |\n",
            "|    clip_range           | 0.2          |\n",
            "|    entropy_loss         | -0.952       |\n",
            "|    explained_variance   | 0.996        |\n",
            "|    learning_rate        | 0.0003       |\n",
            "|    loss                 | 1.7          |\n",
            "|    n_updates            | 184          |\n",
            "|    policy_gradient_loss | -0.00111     |\n",
            "|    value_loss           | 3.93         |\n",
            "------------------------------------------\n",
            "------------------------------------------\n",
            "| rollout/                |              |\n",
            "|    ep_len_mean          | 978          |\n",
            "|    ep_rew_mean          | 144          |\n",
            "| time/                   |              |\n",
            "|    fps                  | 1418         |\n",
            "|    iterations           | 48           |\n",
            "|    time_elapsed         | 554          |\n",
            "|    total_timesteps      | 786432       |\n",
            "| train/                  |              |\n",
            "|    approx_kl            | 0.0037431004 |\n",
            "|    clip_fraction        | 0.0406       |\n",
            "|    clip_range           | 0.2          |\n",
            "|    entropy_loss         | -0.943       |\n",
            "|    explained_variance   | 0.992        |\n",
            "|    learning_rate        | 0.0003       |\n",
            "|    loss                 | 0.759        |\n",
            "|    n_updates            | 188          |\n",
            "|    policy_gradient_loss | -0.000275    |\n",
            "|    value_loss           | 11.3         |\n",
            "------------------------------------------\n",
            "------------------------------------------\n",
            "| rollout/                |              |\n",
            "|    ep_len_mean          | 992          |\n",
            "|    ep_rew_mean          | 152          |\n",
            "| time/                   |              |\n",
            "|    fps                  | 1417         |\n",
            "|    iterations           | 49           |\n",
            "|    time_elapsed         | 566          |\n",
            "|    total_timesteps      | 802816       |\n",
            "| train/                  |              |\n",
            "|    approx_kl            | 0.0038397068 |\n",
            "|    clip_fraction        | 0.0485       |\n",
            "|    clip_range           | 0.2          |\n",
            "|    entropy_loss         | -0.904       |\n",
            "|    explained_variance   | 0.996        |\n",
            "|    learning_rate        | 0.0003       |\n",
            "|    loss                 | 4.23         |\n",
            "|    n_updates            | 192          |\n",
            "|    policy_gradient_loss | -0.000232    |\n",
            "|    value_loss           | 5.16         |\n",
            "------------------------------------------\n",
            "------------------------------------------\n",
            "| rollout/                |              |\n",
            "|    ep_len_mean          | 992          |\n",
            "|    ep_rew_mean          | 152          |\n",
            "| time/                   |              |\n",
            "|    fps                  | 1412         |\n",
            "|    iterations           | 50           |\n",
            "|    time_elapsed         | 579          |\n",
            "|    total_timesteps      | 819200       |\n",
            "| train/                  |              |\n",
            "|    approx_kl            | 0.0031396197 |\n",
            "|    clip_fraction        | 0.0411       |\n",
            "|    clip_range           | 0.2          |\n",
            "|    entropy_loss         | -0.887       |\n",
            "|    explained_variance   | 0.984        |\n",
            "|    learning_rate        | 0.0003       |\n",
            "|    loss                 | 2.76         |\n",
            "|    n_updates            | 196          |\n",
            "|    policy_gradient_loss | -9.2e-08     |\n",
            "|    value_loss           | 26.7         |\n",
            "------------------------------------------\n",
            "-----------------------------------------\n",
            "| rollout/                |             |\n",
            "|    ep_len_mean          | 992         |\n",
            "|    ep_rew_mean          | 153         |\n",
            "| time/                   |             |\n",
            "|    fps                  | 1408        |\n",
            "|    iterations           | 51          |\n",
            "|    time_elapsed         | 593         |\n",
            "|    total_timesteps      | 835584      |\n",
            "| train/                  |             |\n",
            "|    approx_kl            | 0.004023963 |\n",
            "|    clip_fraction        | 0.0452      |\n",
            "|    clip_range           | 0.2         |\n",
            "|    entropy_loss         | -0.887      |\n",
            "|    explained_variance   | 0.984       |\n",
            "|    learning_rate        | 0.0003      |\n",
            "|    loss                 | 99          |\n",
            "|    n_updates            | 200         |\n",
            "|    policy_gradient_loss | -0.000739   |\n",
            "|    value_loss           | 23.8        |\n",
            "-----------------------------------------\n",
            "------------------------------------------\n",
            "| rollout/                |              |\n",
            "|    ep_len_mean          | 999          |\n",
            "|    ep_rew_mean          | 157          |\n",
            "| time/                   |              |\n",
            "|    fps                  | 1405         |\n",
            "|    iterations           | 52           |\n",
            "|    time_elapsed         | 606          |\n",
            "|    total_timesteps      | 851968       |\n",
            "| train/                  |              |\n",
            "|    approx_kl            | 0.0044553885 |\n",
            "|    clip_fraction        | 0.0325       |\n",
            "|    clip_range           | 0.2          |\n",
            "|    entropy_loss         | -0.841       |\n",
            "|    explained_variance   | 0.997        |\n",
            "|    learning_rate        | 0.0003       |\n",
            "|    loss                 | 1.22         |\n",
            "|    n_updates            | 204          |\n",
            "|    policy_gradient_loss | 0.000121     |\n",
            "|    value_loss           | 3.52         |\n",
            "------------------------------------------\n",
            "----------------------------------------\n",
            "| rollout/                |            |\n",
            "|    ep_len_mean          | 977        |\n",
            "|    ep_rew_mean          | 152        |\n",
            "| time/                   |            |\n",
            "|    fps                  | 1404       |\n",
            "|    iterations           | 53         |\n",
            "|    time_elapsed         | 618        |\n",
            "|    total_timesteps      | 868352     |\n",
            "| train/                  |            |\n",
            "|    approx_kl            | 0.00300327 |\n",
            "|    clip_fraction        | 0.0296     |\n",
            "|    clip_range           | 0.2        |\n",
            "|    entropy_loss         | -0.801     |\n",
            "|    explained_variance   | 0.997      |\n",
            "|    learning_rate        | 0.0003     |\n",
            "|    loss                 | 2.07       |\n",
            "|    n_updates            | 208        |\n",
            "|    policy_gradient_loss | -0.000372  |\n",
            "|    value_loss           | 3.71       |\n",
            "----------------------------------------\n",
            "------------------------------------------\n",
            "| rollout/                |              |\n",
            "|    ep_len_mean          | 977          |\n",
            "|    ep_rew_mean          | 152          |\n",
            "| time/                   |              |\n",
            "|    fps                  | 1400         |\n",
            "|    iterations           | 54           |\n",
            "|    time_elapsed         | 631          |\n",
            "|    total_timesteps      | 884736       |\n",
            "| train/                  |              |\n",
            "|    approx_kl            | 0.0026763016 |\n",
            "|    clip_fraction        | 0.0244       |\n",
            "|    clip_range           | 0.2          |\n",
            "|    entropy_loss         | -0.813       |\n",
            "|    explained_variance   | 0.97         |\n",
            "|    learning_rate        | 0.0003       |\n",
            "|    loss                 | 3.29         |\n",
            "|    n_updates            | 212          |\n",
            "|    policy_gradient_loss | 0.000126     |\n",
            "|    value_loss           | 35.9         |\n",
            "------------------------------------------\n",
            "-----------------------------------------\n",
            "| rollout/                |             |\n",
            "|    ep_len_mean          | 941         |\n",
            "|    ep_rew_mean          | 148         |\n",
            "| time/                   |             |\n",
            "|    fps                  | 1398        |\n",
            "|    iterations           | 55          |\n",
            "|    time_elapsed         | 644         |\n",
            "|    total_timesteps      | 901120      |\n",
            "| train/                  |             |\n",
            "|    approx_kl            | 0.004303272 |\n",
            "|    clip_fraction        | 0.0495      |\n",
            "|    clip_range           | 0.2         |\n",
            "|    entropy_loss         | -0.808      |\n",
            "|    explained_variance   | 0.996       |\n",
            "|    learning_rate        | 0.0003      |\n",
            "|    loss                 | 1.78        |\n",
            "|    n_updates            | 216         |\n",
            "|    policy_gradient_loss | -0.00113    |\n",
            "|    value_loss           | 4.42        |\n",
            "-----------------------------------------\n",
            "----------------------------------------\n",
            "| rollout/                |            |\n",
            "|    ep_len_mean          | 922        |\n",
            "|    ep_rew_mean          | 151        |\n",
            "| time/                   |            |\n",
            "|    fps                  | 1396       |\n",
            "|    iterations           | 56         |\n",
            "|    time_elapsed         | 657        |\n",
            "|    total_timesteps      | 917504     |\n",
            "| train/                  |            |\n",
            "|    approx_kl            | 0.00597844 |\n",
            "|    clip_fraction        | 0.0499     |\n",
            "|    clip_range           | 0.2        |\n",
            "|    entropy_loss         | -0.773     |\n",
            "|    explained_variance   | 0.929      |\n",
            "|    learning_rate        | 0.0003     |\n",
            "|    loss                 | 5.44       |\n",
            "|    n_updates            | 220        |\n",
            "|    policy_gradient_loss | -0.0021    |\n",
            "|    value_loss           | 95.8       |\n",
            "----------------------------------------\n",
            "------------------------------------------\n",
            "| rollout/                |              |\n",
            "|    ep_len_mean          | 885          |\n",
            "|    ep_rew_mean          | 162          |\n",
            "| time/                   |              |\n",
            "|    fps                  | 1395         |\n",
            "|    iterations           | 57           |\n",
            "|    time_elapsed         | 669          |\n",
            "|    total_timesteps      | 933888       |\n",
            "| train/                  |              |\n",
            "|    approx_kl            | 0.0037699332 |\n",
            "|    clip_fraction        | 0.0439       |\n",
            "|    clip_range           | 0.2          |\n",
            "|    entropy_loss         | -0.746       |\n",
            "|    explained_variance   | 0.956        |\n",
            "|    learning_rate        | 0.0003       |\n",
            "|    loss                 | 10.7         |\n",
            "|    n_updates            | 224          |\n",
            "|    policy_gradient_loss | -0.000909    |\n",
            "|    value_loss           | 65.5         |\n",
            "------------------------------------------\n",
            "------------------------------------------\n",
            "| rollout/                |              |\n",
            "|    ep_len_mean          | 784          |\n",
            "|    ep_rew_mean          | 183          |\n",
            "| time/                   |              |\n",
            "|    fps                  | 1397         |\n",
            "|    iterations           | 58           |\n",
            "|    time_elapsed         | 679          |\n",
            "|    total_timesteps      | 950272       |\n",
            "| train/                  |              |\n",
            "|    approx_kl            | 0.0036559855 |\n",
            "|    clip_fraction        | 0.0479       |\n",
            "|    clip_range           | 0.2          |\n",
            "|    entropy_loss         | -0.688       |\n",
            "|    explained_variance   | 0.905        |\n",
            "|    learning_rate        | 0.0003       |\n",
            "|    loss                 | 138          |\n",
            "|    n_updates            | 228          |\n",
            "|    policy_gradient_loss | -0.00153     |\n",
            "|    value_loss           | 172          |\n",
            "------------------------------------------\n",
            "------------------------------------------\n",
            "| rollout/                |              |\n",
            "|    ep_len_mean          | 638          |\n",
            "|    ep_rew_mean          | 221          |\n",
            "| time/                   |              |\n",
            "|    fps                  | 1400         |\n",
            "|    iterations           | 59           |\n",
            "|    time_elapsed         | 690          |\n",
            "|    total_timesteps      | 966656       |\n",
            "| train/                  |              |\n",
            "|    approx_kl            | 0.0045879027 |\n",
            "|    clip_fraction        | 0.052        |\n",
            "|    clip_range           | 0.2          |\n",
            "|    entropy_loss         | -0.687       |\n",
            "|    explained_variance   | 0.823        |\n",
            "|    learning_rate        | 0.0003       |\n",
            "|    loss                 | 143          |\n",
            "|    n_updates            | 232          |\n",
            "|    policy_gradient_loss | -0.0028      |\n",
            "|    value_loss           | 303          |\n",
            "------------------------------------------\n",
            "----------------------------------------\n",
            "| rollout/                |            |\n",
            "|    ep_len_mean          | 477        |\n",
            "|    ep_rew_mean          | 243        |\n",
            "| time/                   |            |\n",
            "|    fps                  | 1407       |\n",
            "|    iterations           | 60         |\n",
            "|    time_elapsed         | 698        |\n",
            "|    total_timesteps      | 983040     |\n",
            "| train/                  |            |\n",
            "|    approx_kl            | 0.01157755 |\n",
            "|    clip_fraction        | 0.0913     |\n",
            "|    clip_range           | 0.2        |\n",
            "|    entropy_loss         | -0.709     |\n",
            "|    explained_variance   | 0.757      |\n",
            "|    learning_rate        | 0.0003     |\n",
            "|    loss                 | 184        |\n",
            "|    n_updates            | 236        |\n",
            "|    policy_gradient_loss | -0.0036    |\n",
            "|    value_loss           | 285        |\n",
            "----------------------------------------\n",
            "-----------------------------------------\n",
            "| rollout/                |             |\n",
            "|    ep_len_mean          | 382         |\n",
            "|    ep_rew_mean          | 249         |\n",
            "| time/                   |             |\n",
            "|    fps                  | 1411        |\n",
            "|    iterations           | 61          |\n",
            "|    time_elapsed         | 707         |\n",
            "|    total_timesteps      | 999424      |\n",
            "| train/                  |             |\n",
            "|    approx_kl            | 0.006272774 |\n",
            "|    clip_fraction        | 0.0631      |\n",
            "|    clip_range           | 0.2         |\n",
            "|    entropy_loss         | -0.741      |\n",
            "|    explained_variance   | 0.778       |\n",
            "|    learning_rate        | 0.0003      |\n",
            "|    loss                 | 130         |\n",
            "|    n_updates            | 240         |\n",
            "|    policy_gradient_loss | -0.00223    |\n",
            "|    value_loss           | 221         |\n",
            "-----------------------------------------\n",
            "------------------------------------------\n",
            "| rollout/                |              |\n",
            "|    ep_len_mean          | 357          |\n",
            "|    ep_rew_mean          | 247          |\n",
            "| time/                   |              |\n",
            "|    fps                  | 1416         |\n",
            "|    iterations           | 62           |\n",
            "|    time_elapsed         | 717          |\n",
            "|    total_timesteps      | 1015808      |\n",
            "| train/                  |              |\n",
            "|    approx_kl            | 0.0045226677 |\n",
            "|    clip_fraction        | 0.0461       |\n",
            "|    clip_range           | 0.2          |\n",
            "|    entropy_loss         | -0.739       |\n",
            "|    explained_variance   | 0.773        |\n",
            "|    learning_rate        | 0.0003       |\n",
            "|    loss                 | 55.2         |\n",
            "|    n_updates            | 244          |\n",
            "|    policy_gradient_loss | -0.00193     |\n",
            "|    value_loss           | 223          |\n",
            "------------------------------------------\n"
          ]
        }
      ],
      "source": [
        "# TODO: Train it for 1,000,000 timesteps\n",
        "model.learn(total_timesteps=1000000)\n",
        "\n",
        "# TODO: Specify file name for model and save the model to file\n",
        "model_name = \"ppo-LunarLander-v2\"\n",
        "model.save(model_name)"
      ]
    },
    {
      "cell_type": "markdown",
      "metadata": {
        "id": "1bQzQ-QcE3zo"
      },
      "source": [
        "#### Solution"
      ]
    },
    {
      "cell_type": "code",
      "execution_count": null,
      "metadata": {
        "id": "poBCy9u_csyR"
      },
      "outputs": [],
      "source": [
        "# SOLUTION\n",
        "# Train it for 1,000,000 timesteps\n",
        "model.learn(total_timesteps=1000000)\n",
        "# Save the model\n",
        "model_name = \"ppo-LunarLander-v2\"\n",
        "model.save(model_name)"
      ]
    },
    {
      "cell_type": "markdown",
      "metadata": {
        "id": "BY_HuedOoISR"
      },
      "source": [
        "## Evaluate the agent 📈\n",
        "- Remember to wrap the environment in a [Monitor](https://stable-baselines3.readthedocs.io/en/master/common/monitor.html).\n",
        "- Now that our Lunar Lander agent is trained 🚀, we need to **check its performance**.\n",
        "- Stable-Baselines3 provides a method to do that: `evaluate_policy`.\n",
        "- To fill that part you need to [check the documentation](https://stable-baselines3.readthedocs.io/en/master/guide/examples.html#basic-usage-training-saving-loading)\n",
        "- In the next step,  we'll see **how to automatically evaluate and share your agent to compete in a leaderboard, but for now let's do it ourselves**\n",
        "\n",
        "\n",
        "💡 When you evaluate your agent, you should not use your training environment but create an evaluation environment."
      ]
    },
    {
      "cell_type": "code",
      "execution_count": 15,
      "metadata": {
        "id": "yRpno0glsADy"
      },
      "outputs": [
        {
          "name": "stdout",
          "output_type": "stream",
          "text": [
            "Mean reward 228.13894879999998 +/- 46.55340766466067\n"
          ]
        }
      ],
      "source": [
        "# TODO: Evaluate the agent\n",
        "# Create a new environment for evaluation\n",
        "eval_env = Monitor(gym.make(\"LunarLander-v2\"))\n",
        "\n",
        "# Evaluate the model with 10 evaluation episodes and deterministic=True\n",
        "mean_reward, std_reward = evaluate_policy(model, eval_env,\n",
        "                                          n_eval_episodes=10,\n",
        "                                          deterministic=True)\n",
        "\n",
        "# Print the results\n",
        "print(\"Mean reward\", mean_reward, \"+/-\", std_reward)\n"
      ]
    },
    {
      "cell_type": "markdown",
      "metadata": {
        "id": "BqPKw3jt_pG5"
      },
      "source": [
        "#### Solution"
      ]
    },
    {
      "cell_type": "code",
      "execution_count": null,
      "metadata": {
        "id": "zpz8kHlt_a_m"
      },
      "outputs": [],
      "source": [
        "#@title\n",
        "eval_env = Monitor(gym.make(\"LunarLander-v2\"))\n",
        "mean_reward, std_reward = evaluate_policy(model, eval_env, n_eval_episodes=10, deterministic=True)\n",
        "print(f\"mean_reward={mean_reward:.2f} +/- {std_reward}\")"
      ]
    },
    {
      "cell_type": "markdown",
      "metadata": {
        "id": "reBhoODwcXfr"
      },
      "source": [
        "- In my case, I got a mean reward is `200.20 +/- 20.80` after training for 1 million steps, which means that our lunar lander agent is ready to land on the moon 🌛🥳."
      ]
    },
    {
      "cell_type": "markdown",
      "metadata": {
        "id": "IK_kR78NoNb2"
      },
      "source": [
        "## Publish our trained model on the Hub 🔥\n",
        "Now that we saw we got good results after the training, we can publish our trained model on the hub 🤗 with one line of code.\n",
        "\n",
        "📚 The libraries documentation 👉 https://github.com/huggingface/huggingface_sb3/tree/main#hugging-face--x-stable-baselines3-v20\n",
        "\n",
        "Here's an example of a Model Card (with Space Invaders):"
      ]
    },
    {
      "cell_type": "markdown",
      "metadata": {
        "id": "Gs-Ew7e1gXN3"
      },
      "source": [
        "By using `package_to_hub` **you evaluate, record a replay, generate a model card of your agent and push it to the hub**.\n",
        "\n",
        "This way:\n",
        "- You can **showcase our work** 🔥\n",
        "- You can **visualize your agent playing** 👀\n",
        "- You can **share with the community an agent that others can use** 💾\n",
        "- You can **access a leaderboard 🏆 to see how well your agent is performing compared to your classmates** 👉 https://huggingface.co/spaces/huggingface-projects/Deep-Reinforcement-Learning-Leaderboard\n"
      ]
    },
    {
      "cell_type": "markdown",
      "metadata": {
        "id": "JquRrWytA6eo"
      },
      "source": [
        "To be able to share your model with the community there are three more steps to follow:\n",
        "\n",
        "1️⃣ (If it's not already done) create an account on Hugging Face ➡ https://huggingface.co/join\n",
        "\n",
        "2️⃣ Sign in and then, you need to store your authentication token from the Hugging Face website.\n",
        "- Create a new token (https://huggingface.co/settings/tokens) **with write role**\n",
        "\n",
        "<img src=\"https://huggingface.co/datasets/huggingface-deep-rl-course/course-images/resolve/main/en/notebooks/create-token.jpg\" alt=\"Create HF Token\">\n",
        "\n",
        "- Copy the token\n",
        "- Run the cell below and paste the token"
      ]
    },
    {
      "cell_type": "code",
      "execution_count": 16,
      "metadata": {
        "id": "GZiFBBlzxzxY"
      },
      "outputs": [
        {
          "data": {
            "application/vnd.jupyter.widget-view+json": {
              "model_id": "a76ce08f4f8a4aabb6fc82950a6648d8",
              "version_major": 2,
              "version_minor": 0
            },
            "text/plain": [
              "VBox(children=(HTML(value='<center> <img\\nsrc=https://huggingface.co/front/assets/huggingface_logo-noborder.sv…"
            ]
          },
          "metadata": {},
          "output_type": "display_data"
        }
      ],
      "source": [
        "notebook_login()\n",
        "!git config --global credential.helper store"
      ]
    },
    {
      "cell_type": "markdown",
      "metadata": {
        "id": "_tsf2uv0g_4p"
      },
      "source": [
        "If you don't want to use a Google Colab or a Jupyter Notebook, you need to use this command instead: `huggingface-cli login`"
      ]
    },
    {
      "cell_type": "markdown",
      "metadata": {
        "id": "FGNh9VsZok0i"
      },
      "source": [
        "3️⃣ We're now ready to push our trained agent to the 🤗 Hub 🔥 using `package_to_hub()` function"
      ]
    },
    {
      "cell_type": "markdown",
      "metadata": {
        "id": "Ay24l6bqFF18"
      },
      "source": [
        "Let's fill the `package_to_hub` function:\n",
        "- `model`: our trained model.\n",
        "- `model_name`: the name of the trained model that we defined in `model_save`\n",
        "- `model_architecture`: the model architecture we used, in our case PPO\n",
        "- `env_id`: the name of the environment, in our case `LunarLander-v2`\n",
        "- `eval_env`: the evaluation environment defined in eval_env\n",
        "- `repo_id`: the name of the Hugging Face Hub Repository that will be created/updated `(repo_id = {username}/{repo_name})`\n",
        "\n",
        "💡 **A good name is {username}/{model_architecture}-{env_id}**\n",
        "\n",
        "- `commit_message`: message of the commit"
      ]
    },
    {
      "cell_type": "code",
      "execution_count": 20,
      "metadata": {
        "id": "JPG7ofdGIHN8"
      },
      "outputs": [
        {
          "name": "stdout",
          "output_type": "stream",
          "text": [
            "\u001b[38;5;4mℹ This function will save, evaluate, generate a video of your agent,\n",
            "create a model card and push everything to the hub. It might take up to 1min.\n",
            "This is a work in progress: if you encounter a bug, please open an issue.\u001b[0m\n",
            "Saving video to /tmp/tmpua2pt86a/-step-0-to-step-1000.mp4\n",
            "Moviepy - Building video /tmp/tmpua2pt86a/-step-0-to-step-1000.mp4.\n",
            "Moviepy - Writing video /tmp/tmpua2pt86a/-step-0-to-step-1000.mp4\n",
            "\n"
          ]
        },
        {
          "name": "stderr",
          "output_type": "stream",
          "text": [
            "ffmpeg version 9c33b2f Copyright (c) 2000-2021 the FFmpeg developers\n",
            "  built with gcc 9.3.0 (crosstool-NG 1.24.0.133_b0863d8_dirty)\n",
            "  configuration: --prefix=/home/conda/feedstock_root/build_artifacts/ffmpeg_1627813612080/_h_env_placehold_placehold_placehold_placehold_placehold_placehold_placehold_placehold_placehold_placehold_placehold_placehold_placehold_placehold_placehold_placehold_placehold_placehold_plac --cc=/home/conda/feedstock_root/build_artifacts/ffmpeg_1627813612080/_build_env/bin/x86_64-conda-linux-gnu-cc --disable-doc --disable-openssl --enable-avresample --enable-gnutls --enable-gpl --enable-hardcoded-tables --enable-libfreetype --enable-libopenh264 --enable-libx264 --enable-pic --enable-pthreads --enable-shared --enable-static --enable-version3 --enable-zlib --enable-libmp3lame --pkg-config=/home/conda/feedstock_root/build_artifacts/ffmpeg_1627813612080/_build_env/bin/pkg-config\n",
            "  libavutil      56. 51.100 / 56. 51.100\n",
            "  libavcodec     58. 91.100 / 58. 91.100\n",
            "  libavformat    58. 45.100 / 58. 45.100\n",
            "  libavdevice    58. 10.100 / 58. 10.100\n",
            "  libavfilter     7. 85.100 /  7. 85.100\n",
            "  libavresample   4.  0.  0 /  4.  0.  0\n",
            "  libswscale      5.  7.100 /  5.  7.100\n",
            "  libswresample   3.  7.100 /  3.  7.100\n",
            "  libpostproc    55.  7.100 / 55.  7.100\n",
            "Input #0, mov,mp4,m4a,3gp,3g2,mj2, from '/tmp/tmpua2pt86a/-step-0-to-step-1000.mp4':\n",
            "  Metadata:\n",
            "    major_brand     : isom\n",
            "    minor_version   : 512\n",
            "    compatible_brands: isomiso2avc1mp41\n",
            "    encoder         : Lavf58.45.100\n",
            "  Duration: 00:00:20.02, start: 0.000000, bitrate: 80 kb/s\n",
            "    Stream #0:0(und): Video: h264 (High) (avc1 / 0x31637661), yuv420p, 600x400, 75 kb/s, 50 fps, 50 tbr, 12800 tbn, 100 tbc (default)\n",
            "    Metadata:\n",
            "      handler_name    : VideoHandler\n",
            "Stream mapping:\n",
            "  Stream #0:0 -> #0:0 (h264 (native) -> h264 (libx264))\n",
            "Press [q] to stop, [?] for help\n",
            "[libx264 @ 0x56231b99bd00] using cpu capabilities: MMX2 SSE2Fast SSSE3 SSE4.2 AVX FMA3 BMI2 AVX2\n",
            "[libx264 @ 0x56231b99bd00] profile High, level 3.1, 4:2:0, 8-bit\n",
            "[libx264 @ 0x56231b99bd00] 264 - core 161 r3030M 8bd6d28 - H.264/MPEG-4 AVC codec - Copyleft 2003-2020 - http://www.videolan.org/x264.html - options: cabac=1 ref=3 deblock=1:0:0 analyse=0x3:0x113 me=hex subme=7 psy=1 psy_rd=1.00:0.00 mixed_ref=1 me_range=16 chroma_me=1 trellis=1 8x8dct=1 cqm=0 deadzone=21,11 fast_pskip=1 chroma_qp_offset=-2 threads=12 lookahead_threads=2 sliced_threads=0 nr=0 decimate=1 interlaced=0 bluray_compat=0 constrained_intra=0 bframes=3 b_pyramid=2 b_adapt=1 b_bias=0 direct=1 weightb=1 open_gop=0 weightp=2 keyint=250 keyint_min=25 scenecut=40 intra_refresh=0 rc_lookahead=40 rc=crf mbtree=1 crf=23.0 qcomp=0.60 qpmin=0 qpmax=69 qpstep=4 ip_ratio=1.40 aq=1:1.00\n",
            "Output #0, mp4, to '/tmp/tmpf84kjb1j/replay.mp4':\n",
            "  Metadata:\n",
            "    major_brand     : isom\n",
            "    minor_version   : 512\n",
            "    compatible_brands: isomiso2avc1mp41\n",
            "    encoder         : Lavf58.45.100\n",
            "    Stream #0:0(und): Video: h264 (libx264) (avc1 / 0x31637661), yuv420p, 600x400, q=-1--1, 50 fps, 12800 tbn, 50 tbc (default)\n",
            "    Metadata:\n",
            "      handler_name    : VideoHandler\n",
            "      encoder         : Lavc58.91.100 libx264\n",
            "    Side data:\n",
            "      cpb: bitrate max/min/avg: 0/0/0 buffer size: 0 vbv_delay: N/A\n"
          ]
        },
        {
          "name": "stdout",
          "output_type": "stream",
          "text": [
            "Moviepy - Done !\n",
            "Moviepy - video ready /tmp/tmpua2pt86a/-step-0-to-step-1000.mp4\n"
          ]
        },
        {
          "name": "stderr",
          "output_type": "stream",
          "text": [
            "frame= 1001 fps=0.0 q=-1.0 Lsize=     191kB time=00:00:19.96 bitrate=  78.3kbits/s speed=30.9x    \n",
            "video:178kB audio:0kB subtitle:0kB other streams:0kB global headers:0kB muxing overhead: 6.999874%\n",
            "[libx264 @ 0x56231b99bd00] frame I:5     Avg QP:12.42  size:  2106\n",
            "[libx264 @ 0x56231b99bd00] frame P:256   Avg QP:22.38  size:   240\n",
            "[libx264 @ 0x56231b99bd00] frame B:740   Avg QP:25.26  size:   149\n",
            "[libx264 @ 0x56231b99bd00] consecutive B-frames:  0.8%  1.0%  2.7% 95.5%\n",
            "[libx264 @ 0x56231b99bd00] mb I  I16..4: 77.3% 16.0%  6.7%\n",
            "[libx264 @ 0x56231b99bd00] mb P  I16..4:  0.3%  0.5%  0.2%  P16..4:  1.9%  0.5%  0.2%  0.0%  0.0%    skip:96.5%\n",
            "[libx264 @ 0x56231b99bd00] mb B  I16..4:  0.1%  0.0%  0.1%  B16..8:  3.4%  0.3%  0.0%  direct: 0.1%  skip:96.0%  L0:55.0% L1:44.2% BI: 0.7%\n",
            "[libx264 @ 0x56231b99bd00] 8x8 transform intra:26.5% inter:16.9%\n",
            "[libx264 @ 0x56231b99bd00] coded y,uvDC,uvAC intra: 7.8% 11.8% 10.9% inter: 0.2% 0.3% 0.3%\n",
            "[libx264 @ 0x56231b99bd00] i16 v,h,dc,p: 74% 21%  5%  0%\n",
            "[libx264 @ 0x56231b99bd00] i8 v,h,dc,ddl,ddr,vr,hd,vl,hu:  8% 27% 64%  0%  0%  0%  0%  0%  0%\n",
            "[libx264 @ 0x56231b99bd00] i4 v,h,dc,ddl,ddr,vr,hd,vl,hu: 12% 14% 61%  2%  3%  1%  3%  1%  2%\n",
            "[libx264 @ 0x56231b99bd00] i8c dc,h,v,p: 92%  5%  3%  0%\n",
            "[libx264 @ 0x56231b99bd00] Weighted P-Frames: Y:0.0% UV:0.0%\n",
            "[libx264 @ 0x56231b99bd00] ref P L0: 63.3%  1.8% 22.8% 12.1%\n",
            "[libx264 @ 0x56231b99bd00] ref B L0: 67.0% 28.9%  4.0%\n",
            "[libx264 @ 0x56231b99bd00] ref B L1: 91.8%  8.2%\n",
            "[libx264 @ 0x56231b99bd00] kb/s:72.73\n"
          ]
        },
        {
          "name": "stdout",
          "output_type": "stream",
          "text": [
            "\u001b[38;5;4mℹ Pushing repo GccX11/ppo-LunarLander-v2 to the Hugging Face Hub\u001b[0m\n"
          ]
        },
        {
          "data": {
            "application/vnd.jupyter.widget-view+json": {
              "model_id": "e230ec96d0bf41119f7835c3dbdf346d",
              "version_major": 2,
              "version_minor": 0
            },
            "text/plain": [
              "ppo-LunarLander-v2.zip:   0%|          | 0.00/149k [00:00<?, ?B/s]"
            ]
          },
          "metadata": {},
          "output_type": "display_data"
        },
        {
          "name": "stdout",
          "output_type": "stream",
          "text": [
            "\u001b[38;5;4mℹ Your model is pushed to the Hub. You can view your model here:\n",
            "https://huggingface.co/GccX11/ppo-LunarLander-v2/tree/main/\u001b[0m\n"
          ]
        },
        {
          "data": {
            "text/plain": [
              "CommitInfo(commit_url='https://huggingface.co/GccX11/ppo-LunarLander-v2/commit/b0d81c4eb11a5413d5c75c085e0154661705c68c', commit_message='Upload PPO LunarLander-v2 trained model', commit_description='', oid='b0d81c4eb11a5413d5c75c085e0154661705c68c', pr_url=None, pr_revision=None, pr_num=None)"
            ]
          },
          "execution_count": 20,
          "metadata": {},
          "output_type": "execute_result"
        }
      ],
      "source": [
        "import gymnasium as gym\n",
        "from stable_baselines3.common.vec_env import DummyVecEnv\n",
        "from stable_baselines3.common.env_util import make_vec_env\n",
        "\n",
        "from huggingface_sb3 import package_to_hub\n",
        "\n",
        "## TODO: Define a repo_id\n",
        "## repo_id is the id of the model repository from the Hugging Face Hub (repo_id = {organization}/{repo_name} for instance ThomasSimonini/ppo-LunarLander-v2\n",
        "repo_id = \"GccX11/ppo-LunarLander-v2\"\n",
        "\n",
        "# TODO: Define the name of the environment\n",
        "env_id =\"LunarLander-v2\"\n",
        "\n",
        "# Create the evaluation env and set the render_mode=\"rgb_array\"\n",
        "eval_env = DummyVecEnv([lambda: Monitor(gym.make(env_id, render_mode=\"rgb_array\"))])\n",
        "\n",
        "# TODO: Define the model architecture we used\n",
        "model_architecture = \"PPO\"\n",
        "\n",
        "## TODO: Define the commit message\n",
        "commit_message = \"Upload PPO LunarLander-v2 trained model\"\n",
        "\n",
        "# method save, evaluate, generate a model card and record a replay video of your agent before pushing the repo to the hub\n",
        "package_to_hub(model=model, # Our trained model\n",
        "               model_name=model_name, # The name of our trained model\n",
        "               model_architecture=model_architecture, # The model architecture we used: in our case PPO\n",
        "               env_id=env_id, # Name of the environment\n",
        "               eval_env=eval_env, # Evaluation Environment\n",
        "               repo_id=repo_id, # id of the model repository from the Hugging Face Hub (repo_id = {organization}/{repo_name} for instance ThomasSimonini/ppo-LunarLander-v2\n",
        "               commit_message=commit_message)"
      ]
    },
    {
      "cell_type": "markdown",
      "metadata": {
        "id": "Avf6gufJBGMw"
      },
      "source": [
        "#### Solution\n"
      ]
    },
    {
      "cell_type": "markdown",
      "metadata": {},
      "source": [
        "#### Solution\n"
      ]
    },
    {
      "cell_type": "code",
      "execution_count": null,
      "metadata": {
        "id": "I2E--IJu8JYq"
      },
      "outputs": [],
      "source": [
        "import gymnasium as gym\n",
        "\n",
        "from stable_baselines3 import PPO\n",
        "from stable_baselines3.common.vec_env import DummyVecEnv\n",
        "from stable_baselines3.common.env_util import make_vec_env\n",
        "\n",
        "from huggingface_sb3 import package_to_hub\n",
        "\n",
        "# PLACE the variables you've just defined two cells above\n",
        "# Define the name of the environment\n",
        "env_id = \"LunarLander-v2\"\n",
        "\n",
        "# TODO: Define the model architecture we used\n",
        "model_architecture = \"PPO\"\n",
        "\n",
        "## Define a repo_id\n",
        "## repo_id is the id of the model repository from the Hugging Face Hub (repo_id = {organization}/{repo_name} for instance ThomasSimonini/ppo-LunarLander-v2\n",
        "## CHANGE WITH YOUR REPO ID\n",
        "repo_id = \"ThomasSimonini/ppo-LunarLander-v2\" # Change with your repo id, you can't push with mine 😄\n",
        "\n",
        "## Define the commit message\n",
        "commit_message = \"Upload PPO LunarLander-v2 trained agent\"\n",
        "\n",
        "# Create the evaluation env and set the render_mode=\"rgb_array\"\n",
        "eval_env = DummyVecEnv([lambda: gym.make(env_id, render_mode=\"rgb_array\")])\n",
        "\n",
        "# PLACE the package_to_hub function you've just filled here\n",
        "package_to_hub(model=model, # Our trained model\n",
        "               model_name=model_name, # The name of our trained model\n",
        "               model_architecture=model_architecture, # The model architecture we used: in our case PPO\n",
        "               env_id=env_id, # Name of the environment\n",
        "               eval_env=eval_env, # Evaluation Environment\n",
        "               repo_id=repo_id, # id of the model repository from the Hugging Face Hub (repo_id = {organization}/{repo_name} for instance ThomasSimonini/ppo-LunarLander-v2\n",
        "               commit_message=commit_message)\n"
      ]
    },
    {
      "cell_type": "markdown",
      "metadata": {
        "id": "T79AEAWEFIxz"
      },
      "source": [
        "Congrats 🥳 you've just trained and uploaded your first Deep Reinforcement Learning agent. The script above should have displayed a link to a model repository such as https://huggingface.co/osanseviero/test_sb3. When you go to this link, you can:\n",
        "* See a video preview of your agent at the right.\n",
        "* Click \"Files and versions\" to see all the files in the repository.\n",
        "* Click \"Use in stable-baselines3\" to get a code snippet that shows how to load the model.\n",
        "* A model card (`README.md` file) which gives a description of the model\n",
        "\n",
        "Under the hood, the Hub uses git-based repositories (don't worry if you don't know what git is), which means you can update the model with new versions as you experiment and improve your agent.\n",
        "\n",
        "Compare the results of your LunarLander-v2 with your classmates using the leaderboard 🏆 👉 https://huggingface.co/spaces/huggingface-projects/Deep-Reinforcement-Learning-Leaderboard"
      ]
    },
    {
      "cell_type": "markdown",
      "metadata": {
        "id": "9nWnuQHRfFRa"
      },
      "source": [
        "## Load a saved LunarLander model from the Hub 🤗\n",
        "Thanks to [ironbar](https://github.com/ironbar) for the contribution.\n",
        "\n",
        "Loading a saved model from the Hub is really easy.\n",
        "\n",
        "You go to https://huggingface.co/models?library=stable-baselines3 to see the list of all the Stable-baselines3 saved models.\n",
        "1. You select one and copy its repo_id\n",
        "\n",
        "<img src=\"https://huggingface.co/datasets/huggingface-deep-rl-course/course-images/resolve/main/en/notebooks/unit1/copy-id.png\" alt=\"Copy-id\"/>"
      ]
    },
    {
      "cell_type": "markdown",
      "metadata": {
        "id": "hNPLJF2bfiUw"
      },
      "source": [
        "2. Then we just need to use load_from_hub with:\n",
        "- The repo_id\n",
        "- The filename: the saved model inside the repo and its extension (*.zip)"
      ]
    },
    {
      "cell_type": "markdown",
      "metadata": {
        "id": "bhb9-NtsinKB"
      },
      "source": [
        "Because the model I download from the Hub was trained with Gym (the former version of Gymnasium) we need to install shimmy a API conversion tool that will help us to run the environment correctly.\n",
        "\n",
        "Shimmy Documentation: https://github.com/Farama-Foundation/Shimmy"
      ]
    },
    {
      "cell_type": "code",
      "execution_count": null,
      "metadata": {
        "id": "03WI-bkci1kH"
      },
      "outputs": [],
      "source": [
        "!pip install shimmy"
      ]
    },
    {
      "cell_type": "code",
      "execution_count": null,
      "metadata": {
        "id": "oj8PSGHJfwz3"
      },
      "outputs": [],
      "source": [
        "from huggingface_sb3 import load_from_hub\n",
        "repo_id = \"Classroom-workshop/assignment2-omar\" # The repo_id\n",
        "filename = \"ppo-LunarLander-v2.zip\" # The model filename.zip\n",
        "\n",
        "# When the model was trained on Python 3.8 the pickle protocol is 5\n",
        "# But Python 3.6, 3.7 use protocol 4\n",
        "# In order to get compatibility we need to:\n",
        "# 1. Install pickle5 (we done it at the beginning of the colab)\n",
        "# 2. Create a custom empty object we pass as parameter to PPO.load()\n",
        "custom_objects = {\n",
        "            \"learning_rate\": 0.0,\n",
        "            \"lr_schedule\": lambda _: 0.0,\n",
        "            \"clip_range\": lambda _: 0.0,\n",
        "}\n",
        "\n",
        "checkpoint = load_from_hub(repo_id, filename)\n",
        "model = PPO.load(checkpoint, custom_objects=custom_objects, print_system_info=True)"
      ]
    },
    {
      "cell_type": "markdown",
      "metadata": {
        "id": "Fs0Y-qgPgLUf"
      },
      "source": [
        "Let's evaluate this agent:"
      ]
    },
    {
      "cell_type": "code",
      "execution_count": null,
      "metadata": {
        "id": "PAEVwK-aahfx"
      },
      "outputs": [],
      "source": [
        "#@title\n",
        "eval_env = Monitor(gym.make(\"LunarLander-v2\"))\n",
        "mean_reward, std_reward = evaluate_policy(model, eval_env, n_eval_episodes=10, deterministic=True)\n",
        "print(f\"mean_reward={mean_reward:.2f} +/- {std_reward}\")"
      ]
    },
    {
      "cell_type": "markdown",
      "metadata": {
        "id": "BQAwLnYFPk-s"
      },
      "source": [
        "## Some additional challenges 🏆\n",
        "The best way to learn **is to try things by your own**! As you saw, the current agent is not doing great. As a first suggestion, you can train for more steps. With 1,000,000 steps, we saw some great results!\n",
        "\n",
        "In the [Leaderboard](https://huggingface.co/spaces/huggingface-projects/Deep-Reinforcement-Learning-Leaderboard) you will find your agents. Can you get to the top?\n",
        "\n",
        "Here are some ideas to achieve so:\n",
        "* Train more steps\n",
        "* Try different hyperparameters for `PPO`. You can see them at https://stable-baselines3.readthedocs.io/en/master/modules/ppo.html#parameters.\n",
        "* Check the [Stable-Baselines3 documentation](https://stable-baselines3.readthedocs.io/en/master/modules/dqn.html) and try another model such as DQN.\n",
        "* **Push your new trained model** on the Hub 🔥\n",
        "\n",
        "**Compare the results of your LunarLander-v2 with your classmates** using the [leaderboard](https://huggingface.co/spaces/huggingface-projects/Deep-Reinforcement-Learning-Leaderboard) 🏆\n",
        "\n",
        "Is moon landing too boring for you? Try to **change the environment**, why not use MountainCar-v0, CartPole-v1 or CarRacing-v0? Check how they work [using the gym documentation](https://www.gymlibrary.dev/) and have fun 🎉."
      ]
    },
    {
      "cell_type": "markdown",
      "metadata": {
        "id": "9lM95-dvmif8"
      },
      "source": [
        "________________________________________________________________________\n",
        "Congrats on finishing this chapter! That was the biggest one, **and there was a lot of information.**\n",
        "\n",
        "If you’re still feel confused with all these elements...it's totally normal! **This was the same for me and for all people who studied RL.**\n",
        "\n",
        "Take time to really **grasp the material before continuing and try the additional challenges**. It’s important to master these elements and have a solid foundations.\n",
        "\n",
        "Naturally, during the course, we’re going to dive deeper into these concepts but **it’s better to have a good understanding of them now before diving into the next chapters.**\n",
        "\n"
      ]
    },
    {
      "cell_type": "markdown",
      "metadata": {
        "id": "BjLhT70TEZIn"
      },
      "source": [
        "Next time, in the bonus unit 1, you'll train Huggy the Dog to fetch the stick.\n",
        "\n",
        "<img src=\"https://huggingface.co/datasets/huggingface-deep-rl-course/course-images/resolve/main/en/notebooks/unit1/huggy.jpg\" alt=\"Huggy\"/>\n",
        "\n",
        "## Keep learning, stay awesome 🤗"
      ]
    }
  ],
  "metadata": {
    "accelerator": "GPU",
    "colab": {
      "collapsed_sections": [
        "QAN7B0_HCVZC",
        "BqPKw3jt_pG5"
      ],
      "private_outputs": true,
      "provenance": []
    },
    "gpuClass": "standard",
    "kernelspec": {
      "display_name": "Python 3.9.7",
      "language": "python",
      "name": "python3"
    },
    "language_info": {
      "codemirror_mode": {
        "name": "ipython",
        "version": 3
      },
      "file_extension": ".py",
      "mimetype": "text/x-python",
      "name": "python",
      "nbconvert_exporter": "python",
      "pygments_lexer": "ipython3",
      "version": "3.11.4"
    },
    "vscode": {
      "interpreter": {
        "hash": "ed7f8024e43d3b8f5ca3c5e1a8151ab4d136b3ecee1e3fd59e0766ccc55e1b10"
      }
    }
  },
  "nbformat": 4,
  "nbformat_minor": 0
}
